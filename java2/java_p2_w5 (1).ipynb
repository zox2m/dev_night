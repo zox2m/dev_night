{
 "cells": [
  {
   "cell_type": "markdown",
   "metadata": {
    "id": "Hc8TETHeQEwv"
   },
   "source": [
    "# 퍼스트 클래스 함수 "
   ]
  },
  {
   "cell_type": "code",
   "execution_count": null,
   "metadata": {
    "id": "cmx7nXWfhrJl"
   },
   "outputs": [],
   "source": []
  },
  {
   "cell_type": "code",
   "execution_count": null,
   "metadata": {
    "id": "QZ_SP3lqQEfo"
   },
   "outputs": [],
   "source": [
    "def add(x):\n",
    "    return x + x"
   ]
  },
  {
   "cell_type": "code",
   "execution_count": null,
   "metadata": {
    "colab": {
     "base_uri": "https://localhost:8080/"
    },
    "id": "E-BrSR41em81",
    "outputId": "4f125675-9a07-4336-feef-45276dbfeb67"
   },
   "outputs": [
    {
     "name": "stdout",
     "output_type": "stream",
     "text": [
      "10\n"
     ]
    }
   ],
   "source": [
    "print(add(5))"
   ]
  },
  {
   "cell_type": "code",
   "execution_count": null,
   "metadata": {
    "colab": {
     "base_uri": "https://localhost:8080/"
    },
    "id": "sEmFz9qgQHtH",
    "outputId": "7f11f7c6-6cd6-45cf-cf7b-1e634d89a16d"
   },
   "outputs": [
    {
     "name": "stdout",
     "output_type": "stream",
     "text": [
      "<function add at 0x7f2c5f5543b0>\n",
      "<function add at 0x7f2c5f5543b0>\n"
     ]
    }
   ],
   "source": [
    "f = add\n",
    "\n",
    "print(add)\n",
    "print(f)"
   ]
  },
  {
   "cell_type": "code",
   "execution_count": null,
   "metadata": {
    "colab": {
     "base_uri": "https://localhost:8080/"
    },
    "id": "dQ9ychr3QHv5",
    "outputId": "4556f847-a446-4c4b-d1c1-057bac3b35a2"
   },
   "outputs": [
    {
     "data": {
      "text/plain": [
       "10"
      ]
     },
     "execution_count": 16,
     "metadata": {},
     "output_type": "execute_result"
    }
   ],
   "source": [
    "f(5)"
   ]
  },
  {
   "cell_type": "code",
   "execution_count": null,
   "metadata": {
    "id": "5lFmAPH4fwuJ"
   },
   "outputs": [],
   "source": []
  },
  {
   "cell_type": "code",
   "execution_count": null,
   "metadata": {
    "id": "ofjGcaU5QHzU"
   },
   "outputs": [],
   "source": [
    "def add(x):\n",
    "    return x + x\n",
    "\n",
    "def my_map(func, arg_list):\n",
    "    result = []\n",
    "    for i in arg_list:\n",
    "        result.append(func(i))  # add 함수 호출\n",
    "    return result"
   ]
  },
  {
   "cell_type": "code",
   "execution_count": null,
   "metadata": {
    "id": "1qnGBNwcQH2I"
   },
   "outputs": [],
   "source": [
    "num_list = [1, 2, 3, 4, 5]\n",
    "adds = my_map(add, num_list)"
   ]
  },
  {
   "cell_type": "code",
   "execution_count": null,
   "metadata": {
    "colab": {
     "base_uri": "https://localhost:8080/"
    },
    "id": "JdSoTdtIf4iO",
    "outputId": "3b4067e8-83a0-47a3-a89e-edb2977d435d"
   },
   "outputs": [
    {
     "name": "stdout",
     "output_type": "stream",
     "text": [
      "[2, 4, 6, 8, 10]\n"
     ]
    }
   ],
   "source": [
    "print(adds)"
   ]
  },
  {
   "cell_type": "code",
   "execution_count": null,
   "metadata": {
    "id": "wS6aos-Ff5m1"
   },
   "outputs": [],
   "source": []
  },
  {
   "cell_type": "code",
   "execution_count": null,
   "metadata": {
    "id": "ihgCu9Rjf5rO"
   },
   "outputs": [],
   "source": [
    "def square(x):\n",
    "    return x * x\n",
    "\n",
    "def cube(x):\n",
    "    return x * x * x\n",
    "\n",
    "def quad(x):\n",
    "    return x * x * x * x\n",
    "\n",
    "def my_map(func, arg_list):  # wrapper 함수 \n",
    "    result = []\n",
    "    for i in arg_list:\n",
    "        result.append(func(i))  # square , cube, quad 함수 호출\n",
    "    return result"
   ]
  },
  {
   "cell_type": "code",
   "execution_count": null,
   "metadata": {
    "id": "qo0vGRLLhfwN"
   },
   "outputs": [],
   "source": [
    "num_list = [1, 2, 3, 4, 5]\n",
    "\n",
    "squares = my_map(square, num_list)\n",
    "cubes = my_map(cube, num_list)\n",
    "quads = my_map(quad, num_list)"
   ]
  },
  {
   "cell_type": "code",
   "execution_count": null,
   "metadata": {
    "colab": {
     "base_uri": "https://localhost:8080/"
    },
    "id": "g68CSIo-KBom",
    "outputId": "1f9a059c-f529-4ec6-b285-e00afbe149b4"
   },
   "outputs": [
    {
     "name": "stdout",
     "output_type": "stream",
     "text": [
      "[1, 4, 9, 16, 25]\n",
      "[1, 8, 27, 64, 125]\n",
      "[1, 16, 81, 256, 625]\n"
     ]
    }
   ],
   "source": [
    "print(squares)\n",
    "print(cubes)\n",
    "print(quads)"
   ]
  },
  {
   "cell_type": "code",
   "execution_count": null,
   "metadata": {
    "id": "rYGPuRBkivSF"
   },
   "outputs": [],
   "source": []
  },
  {
   "cell_type": "code",
   "execution_count": null,
   "metadata": {
    "id": "3Ig3oTMgkCAV"
   },
   "outputs": [],
   "source": [
    "def logger(msg):\n",
    "    def log_message():  # 1\n",
    "        print('Log: ', msg)\n",
    "\n",
    "    return log_message"
   ]
  },
  {
   "cell_type": "code",
   "execution_count": null,
   "metadata": {
    "id": "ZtpPHRJ7ivW9"
   },
   "outputs": [],
   "source": [
    "log_hi = logger('Hi')"
   ]
  },
  {
   "cell_type": "code",
   "execution_count": null,
   "metadata": {
    "colab": {
     "base_uri": "https://localhost:8080/"
    },
    "id": "5JScife0kl6p",
    "outputId": "4da50c7c-399f-4caf-abc9-52cce82c0ac0"
   },
   "outputs": [
    {
     "name": "stdout",
     "output_type": "stream",
     "text": [
      "<function logger.<locals>.log_message at 0x7f2c5f554830>\n"
     ]
    }
   ],
   "source": [
    "print(log_hi)"
   ]
  },
  {
   "cell_type": "code",
   "execution_count": null,
   "metadata": {
    "colab": {
     "base_uri": "https://localhost:8080/"
    },
    "id": "h9rUYcdgkoHN",
    "outputId": "d5c49fd7-a8dc-4b9d-c30b-fd16e0712e8e"
   },
   "outputs": [
    {
     "name": "stdout",
     "output_type": "stream",
     "text": [
      "Log:  Hi\n"
     ]
    }
   ],
   "source": [
    "log_hi()"
   ]
  },
  {
   "cell_type": "code",
   "execution_count": null,
   "metadata": {
    "id": "VixfYO4SnSex"
   },
   "outputs": [],
   "source": []
  },
  {
   "cell_type": "code",
   "execution_count": null,
   "metadata": {
    "id": "WvfsAy4tkocm"
   },
   "outputs": [],
   "source": [
    "del logger"
   ]
  },
  {
   "cell_type": "code",
   "execution_count": null,
   "metadata": {
    "colab": {
     "base_uri": "https://localhost:8080/",
     "height": 173
    },
    "id": "cgKQg494kogP",
    "outputId": "32a4e2f5-05af-4bc7-fa0f-4e997302e5c5"
   },
   "outputs": [
    {
     "ename": "NameError",
     "evalue": "ignored",
     "output_type": "error",
     "traceback": [
      "\u001b[0;31m---------------------------------------------------------------------------\u001b[0m",
      "\u001b[0;31mNameError\u001b[0m                                 Traceback (most recent call last)",
      "\u001b[0;32m<ipython-input-12-8bbcb74a018f>\u001b[0m in \u001b[0;36m<module>\u001b[0;34m\u001b[0m\n\u001b[0;32m----> 1\u001b[0;31m \u001b[0mprint\u001b[0m\u001b[0;34m(\u001b[0m\u001b[0mlogger\u001b[0m\u001b[0;34m)\u001b[0m\u001b[0;34m\u001b[0m\u001b[0;34m\u001b[0m\u001b[0m\n\u001b[0m",
      "\u001b[0;31mNameError\u001b[0m: name 'logger' is not defined"
     ]
    }
   ],
   "source": [
    "print(logger)"
   ]
  },
  {
   "cell_type": "code",
   "execution_count": null,
   "metadata": {
    "id": "BklnkeDLm-Gt"
   },
   "outputs": [],
   "source": [
    "log_hi()"
   ]
  },
  {
   "cell_type": "code",
   "execution_count": null,
   "metadata": {
    "id": "9dtEwTJSmcId"
   },
   "outputs": [],
   "source": []
  },
  {
   "cell_type": "code",
   "execution_count": null,
   "metadata": {
    "id": "MuFy8GZGqCk0"
   },
   "outputs": [],
   "source": [
    "def html_tag(tag):\n",
    "    def wrap_text(msg):\n",
    "        print('<{0}> {1} <{0}>'.format(tag, msg))\n",
    "\n",
    "    return wrap_text"
   ]
  },
  {
   "cell_type": "code",
   "execution_count": null,
   "metadata": {
    "id": "sCvcwlwequk_"
   },
   "outputs": [],
   "source": [
    "print_h1 = html_tag('h1')  "
   ]
  },
  {
   "cell_type": "code",
   "execution_count": null,
   "metadata": {
    "id": "2iCz_uKEkokN"
   },
   "outputs": [],
   "source": [
    "print_h1('첫 번째 헤딩 타이틀')"
   ]
  },
  {
   "cell_type": "code",
   "execution_count": null,
   "metadata": {
    "colab": {
     "base_uri": "https://localhost:8080/"
    },
    "id": "rmGeqHxoqsZB",
    "outputId": "c190f973-ba95-4070-d44a-ec9243904af8"
   },
   "outputs": [
    {
     "name": "stdout",
     "output_type": "stream",
     "text": [
      "<h1> 두 번째 헤딩 타이틀 <h1>\n"
     ]
    }
   ],
   "source": [
    "print_h1('두 번째 헤딩 타이틀')"
   ]
  },
  {
   "cell_type": "code",
   "execution_count": null,
   "metadata": {
    "id": "QI9EC5ZwkonN"
   },
   "outputs": [],
   "source": [
    "print_p = html_tag('p')"
   ]
  },
  {
   "cell_type": "code",
   "execution_count": null,
   "metadata": {
    "colab": {
     "base_uri": "https://localhost:8080/"
    },
    "id": "cnXfFpxKqYQU",
    "outputId": "541782b5-afaa-4317-dbac-f9c9849ce48d"
   },
   "outputs": [
    {
     "name": "stdout",
     "output_type": "stream",
     "text": [
      "<p> 이것은 패러그래프 입니다. <p>\n"
     ]
    }
   ],
   "source": [
    "print_p('이것은 패러그래프 입니다.')"
   ]
  },
  {
   "cell_type": "code",
   "execution_count": null,
   "metadata": {
    "id": "FOOElkGwq08M"
   },
   "outputs": [],
   "source": []
  },
  {
   "cell_type": "code",
   "execution_count": null,
   "metadata": {
    "id": "4wxoB1-Rumj9"
   },
   "outputs": [],
   "source": [
    "## 클로저 closure "
   ]
  },
  {
   "cell_type": "code",
   "execution_count": null,
   "metadata": {
    "id": "znp2UIXJwLLG"
   },
   "outputs": [],
   "source": [
    "def calc():\n",
    "    a = 3\n",
    "    b = 5\n",
    "    def mul_add(x):\n",
    "        return a * x + b    \n",
    "    return mul_add       # 함수 자체를 반환, 호출 x "
   ]
  },
  {
   "cell_type": "code",
   "execution_count": null,
   "metadata": {
    "id": "1lqUDiItuoT0"
   },
   "outputs": [],
   "source": [
    "c = calc()"
   ]
  },
  {
   "cell_type": "code",
   "execution_count": null,
   "metadata": {
    "colab": {
     "base_uri": "https://localhost:8080/"
    },
    "id": "0sQWK1Sqv6v7",
    "outputId": "f40c699a-fe64-42ff-a9ac-40d4c782941c"
   },
   "outputs": [
    {
     "name": "stdout",
     "output_type": "stream",
     "text": [
      "8 11 14\n"
     ]
    }
   ],
   "source": [
    "print( c(1) , c(2), c(3) )"
   ]
  },
  {
   "cell_type": "code",
   "execution_count": null,
   "metadata": {
    "colab": {
     "base_uri": "https://localhost:8080/"
    },
    "id": "fCPix_o_wU4L",
    "outputId": "e04e0f5e-07bb-446d-b8a3-48bd06a46388"
   },
   "outputs": [
    {
     "data": {
      "text/plain": [
       "11"
      ]
     },
     "execution_count": 98,
     "metadata": {},
     "output_type": "execute_result"
    }
   ],
   "source": []
  },
  {
   "cell_type": "code",
   "execution_count": null,
   "metadata": {
    "colab": {
     "base_uri": "https://localhost:8080/"
    },
    "id": "vk0aWO6uwWer",
    "outputId": "07c56074-6bc2-4b01-dd26-db788cd07ba9"
   },
   "outputs": [
    {
     "data": {
      "text/plain": [
       "14"
      ]
     },
     "execution_count": 99,
     "metadata": {},
     "output_type": "execute_result"
    }
   ],
   "source": []
  },
  {
   "cell_type": "markdown",
   "metadata": {
    "id": "aEwoiVJp6Lwc"
   },
   "source": [
    "## 데코레이터 ~~"
   ]
  },
  {
   "cell_type": "code",
   "execution_count": null,
   "metadata": {
    "id": "S7Tu2kay6k05"
   },
   "outputs": [],
   "source": []
  },
  {
   "cell_type": "code",
   "execution_count": null,
   "metadata": {
    "id": "Iv08bL5l6LmT"
   },
   "outputs": [],
   "source": [
    "def hello():\n",
    "    print('hello 함수 시작')\n",
    "    print('hello')\n",
    "    print('hello 함수 끝')\n",
    " \n",
    "def world():\n",
    "    print('world 함수 시작')\n",
    "    print('world')\n",
    "    print('world 함수 끝')"
   ]
  },
  {
   "cell_type": "code",
   "execution_count": null,
   "metadata": {
    "colab": {
     "base_uri": "https://localhost:8080/"
    },
    "id": "9oyLvRxr6l6J",
    "outputId": "075c6323-d57c-42de-a01c-6e535705c189"
   },
   "outputs": [
    {
     "name": "stdout",
     "output_type": "stream",
     "text": [
      "hello 함수 시작\n",
      "hello\n",
      "hello 함수 끝\n",
      "world 함수 시작\n",
      "world\n",
      "world 함수 끝\n"
     ]
    }
   ],
   "source": [
    "hello()\n",
    "world()"
   ]
  },
  {
   "cell_type": "code",
   "execution_count": null,
   "metadata": {
    "id": "idQCTFok617G"
   },
   "outputs": [],
   "source": []
  },
  {
   "cell_type": "code",
   "execution_count": null,
   "metadata": {
    "id": "ODC691E46Lbp"
   },
   "outputs": [],
   "source": [
    "## 클로저 활용 데코레이터 \n",
    "\n",
    "def trace(func):                             \n",
    "    def wrapper():                           \n",
    "        print(func.__name__, '함수 시작')    \n",
    "        func()                               \n",
    "        print(func.__name__, '함수 끝')\n",
    "    return wrapper                           \n",
    " \n",
    "def hello():\n",
    "    print('hello')\n",
    " \n",
    "def world():\n",
    "    print('world')"
   ]
  },
  {
   "cell_type": "code",
   "execution_count": null,
   "metadata": {
    "colab": {
     "base_uri": "https://localhost:8080/"
    },
    "id": "zIM4sIec6LI6",
    "outputId": "bcf4feb2-5f30-4f5f-8281-d18ca878a35e"
   },
   "outputs": [
    {
     "name": "stdout",
     "output_type": "stream",
     "text": [
      "hello 함수 시작\n",
      "hello\n",
      "hello 함수 끝\n",
      "world 함수 시작\n",
      "world\n",
      "world 함수 끝\n"
     ]
    }
   ],
   "source": [
    "trace_hello = trace(hello)   \n",
    "trace_world = trace(world)   \n",
    "\n",
    "trace_hello()                \n",
    "trace_world()                "
   ]
  },
  {
   "cell_type": "code",
   "execution_count": null,
   "metadata": {
    "id": "_spEReNJ65pT"
   },
   "outputs": [],
   "source": [
    "def trace(func):                             \n",
    "    def wrapper():\n",
    "        print(func.__name__, '함수 시작')    \n",
    "        func()                               \n",
    "        print(func.__name__, '함수 끝')\n",
    "    return wrapper                          \n",
    " \n",
    "@trace    # @데코레이터\n",
    "def hello():\n",
    "    print('hello')\n",
    " \n",
    "@trace    # @데코레이터\n",
    "def world():\n",
    "    print('world')"
   ]
  },
  {
   "cell_type": "code",
   "execution_count": null,
   "metadata": {
    "colab": {
     "base_uri": "https://localhost:8080/"
    },
    "id": "s_EmQAUgJj9h",
    "outputId": "ff8bfcd3-1ea8-4a84-fad3-6086e5f2f735"
   },
   "outputs": [
    {
     "name": "stdout",
     "output_type": "stream",
     "text": [
      "hello 함수 시작\n",
      "hello\n",
      "hello 함수 끝\n",
      "world 함수 시작\n",
      "world\n",
      "world 함수 끝\n"
     ]
    }
   ],
   "source": [
    "hello()   \n",
    "world()  "
   ]
  },
  {
   "cell_type": "code",
   "execution_count": null,
   "metadata": {
    "id": "_FD7-LFkJm8-"
   },
   "outputs": [],
   "source": []
  },
  {
   "cell_type": "code",
   "execution_count": null,
   "metadata": {
    "id": "Kk8Mml_CJnI3"
   },
   "outputs": [],
   "source": [
    "def decorator1(func):\n",
    "    def wrapper():\n",
    "        print('decorator1')\n",
    "        func()\n",
    "    return wrapper\n",
    " \n",
    "def decorator2(func):\n",
    "    def wrapper():\n",
    "        print('decorator2')\n",
    "        func()\n",
    "    return wrapper"
   ]
  },
  {
   "cell_type": "code",
   "execution_count": null,
   "metadata": {
    "id": "XyG2vPnbKl5C"
   },
   "outputs": [],
   "source": [
    "# 데코레이터를 여러 개 지정\n",
    "@decorator1\n",
    "@decorator2\n",
    "def hello():\n",
    "    print('hello')"
   ]
  },
  {
   "cell_type": "code",
   "execution_count": null,
   "metadata": {
    "colab": {
     "base_uri": "https://localhost:8080/"
    },
    "id": "inQOQ38yJnL5",
    "outputId": "e439cd79-c99b-44fc-f72d-f76a608941c1"
   },
   "outputs": [
    {
     "name": "stdout",
     "output_type": "stream",
     "text": [
      "decorator1\n",
      "decorator2\n",
      "hello\n"
     ]
    }
   ],
   "source": [
    "hello()"
   ]
  },
  {
   "cell_type": "code",
   "execution_count": null,
   "metadata": {
    "id": "NPm9Zq89Kpgu"
   },
   "outputs": [],
   "source": []
  },
  {
   "cell_type": "code",
   "execution_count": null,
   "metadata": {
    "id": "z2aDJjMJMD3c"
   },
   "outputs": [],
   "source": [
    "# 매개변수 리턴이 있는 데코레이터 "
   ]
  },
  {
   "cell_type": "code",
   "execution_count": null,
   "metadata": {
    "id": "iL4-BUgIJnOZ"
   },
   "outputs": [],
   "source": [
    "def trace(func):          \n",
    "    def wrapper(a, b):    \n",
    "        r = func(a, b)    \n",
    "        print('{0} {1} {2} {3}'.format(func.__name__, a, b, r))  \n",
    "        return r          \n",
    "    return wrapper        \n",
    " \n",
    "@trace              # @데코레이터\n",
    "def add(a, b):      \n",
    "    return a + b    "
   ]
  },
  {
   "cell_type": "code",
   "execution_count": null,
   "metadata": {
    "colab": {
     "base_uri": "https://localhost:8080/"
    },
    "id": "KXfI7EzdJnRF",
    "outputId": "470dec78-91c8-4098-9620-1eec3efc65af"
   },
   "outputs": [
    {
     "name": "stdout",
     "output_type": "stream",
     "text": [
      "add 10 20 30\n"
     ]
    },
    {
     "data": {
      "text/plain": [
       "30"
      ]
     },
     "execution_count": 170,
     "metadata": {},
     "output_type": "execute_result"
    }
   ],
   "source": [
    "add(10, 20)"
   ]
  },
  {
   "cell_type": "markdown",
   "metadata": {
    "id": "vLt9DAP1JnS5"
   },
   "source": [
    "# 가변 매개변수 데코레이터 "
   ]
  },
  {
   "cell_type": "code",
   "execution_count": null,
   "metadata": {
    "id": "zVlR6vTKQDA8"
   },
   "outputs": [],
   "source": [
    "def trace(func):                     \n",
    "    def wrapper(*args, **kwargs):    \n",
    "        r = func(*args, **kwargs)    \n",
    "        print('name = {0} , args = {1} , kwargs = {2} , return = {3}'.format(func.__name__, args, kwargs, r))                                  \n",
    "        return r\n",
    "    return wrapper\n",
    " \n",
    "@trace                   # @데코레이터\n",
    "def get_max(*args): \n",
    "    return max(args)\n",
    " \n",
    "@trace                   # @데코레이터\n",
    "def get_min(**kwargs):\n",
    "    return min(kwargs.values())"
   ]
  },
  {
   "cell_type": "code",
   "execution_count": null,
   "metadata": {
    "colab": {
     "base_uri": "https://localhost:8080/"
    },
    "id": "zDr56gGFQC1H",
    "outputId": "2a547e2a-3ec5-4941-c2a9-77442b621be4"
   },
   "outputs": [
    {
     "name": "stdout",
     "output_type": "stream",
     "text": [
      "name = get_max , args = (10, 20) , kwargs = {} , return = 20\n"
     ]
    },
    {
     "data": {
      "text/plain": [
       "20"
      ]
     },
     "execution_count": 204,
     "metadata": {},
     "output_type": "execute_result"
    }
   ],
   "source": [
    "get_max(10, 20)"
   ]
  },
  {
   "cell_type": "code",
   "execution_count": null,
   "metadata": {
    "colab": {
     "base_uri": "https://localhost:8080/"
    },
    "id": "YUQuKpAIJnVR",
    "outputId": "4782ef49-a3ad-4f3c-a224-8624d7fe481d"
   },
   "outputs": [
    {
     "name": "stdout",
     "output_type": "stream",
     "text": [
      "name = get_min , args = () , kwargs = {'x': 10, 'y': 20, 'z': 30} , return = 10\n"
     ]
    },
    {
     "data": {
      "text/plain": [
       "10"
      ]
     },
     "execution_count": 205,
     "metadata": {},
     "output_type": "execute_result"
    }
   ],
   "source": [
    "get_min(x=10, y=20, z=30)"
   ]
  },
  {
   "cell_type": "code",
   "execution_count": null,
   "metadata": {
    "id": "RCY4pfaW15SF"
   },
   "outputs": [],
   "source": []
  },
  {
   "cell_type": "code",
   "execution_count": null,
   "metadata": {
    "id": "C1YALP3LTmpu"
   },
   "outputs": [],
   "source": []
  },
  {
   "cell_type": "markdown",
   "metadata": {
    "id": "aUFOqvtATaYy"
   },
   "source": [
    "# 매개변수가 있는 데코레이터 "
   ]
  },
  {
   "cell_type": "code",
   "execution_count": null,
   "metadata": {
    "id": "xPn1e_uATaNU"
   },
   "outputs": [],
   "source": [
    "def is_multiple(x):             \n",
    "    def real_decorator(func):    \n",
    "        def wrapper(a, b):       \n",
    "            r = func(a, b)       \n",
    "            if r % x == 0:      \n",
    "                print('{0}의 반환값은 {1}의 배수입니다.'.format(func.__name__, x))\n",
    "            else:\n",
    "                print('{0}의 반환값은 {1}의 배수가 아닙니다.'.format(func.__name__, x))\n",
    "            return r           \n",
    "        return wrapper           \n",
    "    return real_decorator      \n",
    "\n",
    "\n",
    "@is_multiple(3)     # @데코레이터(매개변수)\n",
    "def add(a, b):\n",
    "    return a + b"
   ]
  },
  {
   "cell_type": "code",
   "execution_count": null,
   "metadata": {
    "colab": {
     "base_uri": "https://localhost:8080/"
    },
    "id": "Aj3m2H4qn2Cf",
    "outputId": "61e008cd-2a4e-4f09-b28d-d7d6f6830ce2"
   },
   "outputs": [
    {
     "name": "stdout",
     "output_type": "stream",
     "text": [
      "add의 반환값은 3의 배수입니다.\n"
     ]
    },
    {
     "data": {
      "text/plain": [
       "30"
      ]
     },
     "execution_count": 213,
     "metadata": {},
     "output_type": "execute_result"
    }
   ],
   "source": [
    "add(10, 20)"
   ]
  },
  {
   "cell_type": "code",
   "execution_count": null,
   "metadata": {
    "colab": {
     "base_uri": "https://localhost:8080/"
    },
    "id": "EJhB-3yMpKQF",
    "outputId": "5794c11f-7f6e-4bbb-b28e-368c1e138c2c"
   },
   "outputs": [
    {
     "name": "stdout",
     "output_type": "stream",
     "text": [
      "add의 반환값은 3의 배수가 아닙니다.\n"
     ]
    },
    {
     "data": {
      "text/plain": [
       "7"
      ]
     },
     "execution_count": 212,
     "metadata": {},
     "output_type": "execute_result"
    }
   ],
   "source": [
    "add(2, 5)"
   ]
  },
  {
   "cell_type": "code",
   "execution_count": null,
   "metadata": {
    "id": "bMT2qSrdpMW_"
   },
   "outputs": [],
   "source": []
  },
  {
   "cell_type": "markdown",
   "metadata": {
    "id": "qz7HZF_VncvI"
   },
   "source": [
    "## Main function \n",
    "## if __name__ == '__main__'"
   ]
  },
  {
   "cell_type": "code",
   "execution_count": null,
   "metadata": {
    "id": "0Jfpk9fEsnB1"
   },
   "outputs": [],
   "source": [
    "## module1.py\n",
    "\n",
    "def hello():\n",
    "    print(\"Hello!\") #3\n",
    "\n",
    "print(__name__)  #1 "
   ]
  },
  {
   "cell_type": "code",
   "execution_count": null,
   "metadata": {
    "id": "ECWj42fItJdX"
   },
   "outputs": [],
   "source": [
    "## main.py\n",
    "\n",
    "import module1\n",
    "\n",
    "print(__name__) #2\n",
    "module.hello()  #3 \n",
    "\n",
    "\n",
    "# >> module       #1  \n",
    "# >> __main__     #2 \n",
    "# >> Hello!       #3"
   ]
  },
  {
   "cell_type": "code",
   "execution_count": null,
   "metadata": {
    "id": "E0nAy_VNtZWJ"
   },
   "outputs": [],
   "source": [
    "## module2.py\n",
    "\n",
    "def hello():\n",
    "    print(\"Hello!\")  \n",
    "\n",
    "if __name__==\"__main__\":\n",
    "    print(__name__)  "
   ]
  },
  {
   "cell_type": "code",
   "execution_count": null,
   "metadata": {
    "id": "RC-omX64ndjI"
   },
   "outputs": [],
   "source": [
    "## main.py\n",
    "\n",
    "import module2\n",
    "\n",
    "print(__name__) #2\n",
    "module.hello()  #3 \n",
    "\n",
    "\n",
    "  \n",
    "# >> __main__     #2\n",
    "# >> Hello!       #3"
   ]
  },
  {
   "cell_type": "code",
   "execution_count": null,
   "metadata": {
    "id": "jmgyRM2qndl2"
   },
   "outputs": [],
   "source": []
  },
  {
   "cell_type": "code",
   "execution_count": null,
   "metadata": {
    "id": "WiYNGPoundnn"
   },
   "outputs": [],
   "source": []
  },
  {
   "cell_type": "markdown",
   "metadata": {
    "id": "Zme-z9Wendqe"
   },
   "source": [
    "## 퍼사드 패턴 "
   ]
  },
  {
   "cell_type": "code",
   "execution_count": null,
   "metadata": {
    "id": "I1-XYYTSncmk"
   },
   "outputs": [],
   "source": [
    "class Hotelier():\n",
    "    def __init__(self):\n",
    "        print(\" 호텔리어 입니다. \")\n",
    "  \n",
    "    def bookHotel(self):\n",
    "        print(\"호텔 예약 완료 했습니다. \\n\\n\")\n",
    "\n"
   ]
  },
  {
   "cell_type": "code",
   "execution_count": null,
   "metadata": {
    "id": "8uCFJP6Uncd9"
   },
   "outputs": [],
   "source": [
    "class Florist():\n",
    "    def __init__(self):\n",
    "        print(\" 플로어리스트 입니다. \")\n",
    "    \n",
    "    def setFlowerRequirements(self):\n",
    "        print(\"카네이션, 장미, 백합 꽃 장식을 준비하겠습니다. \\n\\n\")"
   ]
  },
  {
   "cell_type": "code",
   "execution_count": null,
   "metadata": {
    "id": "4K313U8vncVP"
   },
   "outputs": [],
   "source": [
    "class Caterer():\n",
    "    \n",
    "    def __init__(self):\n",
    "        print(\" 요식업체 입니다. \")\n",
    "    \n",
    "    def setFood(self):\n",
    "        print(\"한식 코스로 준비하겠습니다. \\n\\n\")"
   ]
  },
  {
   "cell_type": "code",
   "execution_count": null,
   "metadata": {
    "id": "iRs3pg7AncMy"
   },
   "outputs": [],
   "source": [
    "class Musician():\n",
    "    \n",
    "    def __init__(self):\n",
    "        print(\" 밴드입니다. \")\n",
    "    \n",
    "    def setMusicType(self):\n",
    "        print(\"재즈와 클래식 음악을 준비하겠습니다. \\n\\n\")"
   ]
  },
  {
   "cell_type": "code",
   "execution_count": null,
   "metadata": {
    "id": "xGziQdZOEZUo"
   },
   "outputs": [],
   "source": [
    "class WeddingPlanner():   ## 퍼사드 클래스 , Facade  \n",
    "    \n",
    "    def __init__(self):\n",
    "        print(\"웨딩 플레너 입니다.   \\n\")\n",
    "    \n",
    "    def arrange(self):\n",
    "        self.hotelier = Hotelier()\n",
    "        self.hotelier.bookHotel()\n",
    "        \n",
    "        self.florist = Florist()\n",
    "        self.florist.setFlowerRequirements()\n",
    "        \n",
    "        self.caterer = Caterer()\n",
    "        self.caterer.setFood()\n",
    "        \n",
    "        self.musician = Musician()\n",
    "        self.musician.setMusicType()"
   ]
  },
  {
   "cell_type": "code",
   "execution_count": null,
   "metadata": {
    "id": "NZ6D9WYLEZpG"
   },
   "outputs": [],
   "source": [
    "class Client():\n",
    "    \n",
    "    def __init__(self):\n",
    "        print(\"결혼 준비 시작 \")\n",
    "    \n",
    "    def setWeddingPlanner(self):\n",
    "        print(\"웨딩 플래너 긔긔 \")\n",
    "        wp = WeddingPlanner()\n",
    "        wp.arrange()"
   ]
  },
  {
   "cell_type": "code",
   "execution_count": null,
   "metadata": {
    "colab": {
     "base_uri": "https://localhost:8080/"
    },
    "id": "8N_Kq-yzEZsD",
    "outputId": "3132f0e0-94df-4dfe-cc11-18586a8605f7"
   },
   "outputs": [
    {
     "name": "stdout",
     "output_type": "stream",
     "text": [
      "결혼 준비 시작 \n"
     ]
    }
   ],
   "source": [
    "you = Client()"
   ]
  },
  {
   "cell_type": "code",
   "execution_count": null,
   "metadata": {
    "colab": {
     "base_uri": "https://localhost:8080/"
    },
    "id": "VN8dzQqEEZuQ",
    "outputId": "4d9aa2cf-9437-41fc-b59d-ef7f6d7c90f3"
   },
   "outputs": [
    {
     "name": "stdout",
     "output_type": "stream",
     "text": [
      "웨딩 플래너 긔긔 \n",
      "웨딩 플레너 입니다.   \n",
      "\n",
      " 호텔리어 입니다. \n",
      "호텔 예약 완료 했습니다. \n",
      "\n",
      "\n",
      " 플로어리스트 입니다. \n",
      "카네이션, 장미, 백합 꽃 장식을 준비하겠습니다. \n",
      "\n",
      "\n",
      " 요식업체 입니다. \n",
      "한식 코스로 준비하겠습니다. \n",
      "\n",
      "\n",
      " 밴드입니다. \n",
      "재즈와 클래식 음악을 준비하겠습니다. \n",
      "\n",
      "\n"
     ]
    }
   ],
   "source": [
    "you.setWeddingPlanner()"
   ]
  },
  {
   "cell_type": "code",
   "execution_count": null,
   "metadata": {
    "id": "_6tAY9U-EZxf"
   },
   "outputs": [],
   "source": []
  },
  {
   "cell_type": "code",
   "execution_count": null,
   "metadata": {
    "id": "KQljqOIPEZzF"
   },
   "outputs": [],
   "source": [
    "## 구조 어댑터 패턴 "
   ]
  },
  {
   "cell_type": "code",
   "execution_count": null,
   "metadata": {
    "id": "HzN74GMrEZ2p"
   },
   "outputs": [],
   "source": [
    "from abc import *\n",
    "\n",
    "class Fighter(metaclass=ABCMeta):\n",
    "    @abstractmethod\n",
    "    def attack(self): pass\n",
    "\n",
    "    @abstractmethod\n",
    "    def defend(self): pass\n",
    "\n",
    "    @abstractmethod\n",
    "    def escape(self): pass"
   ]
  },
  {
   "cell_type": "code",
   "execution_count": null,
   "metadata": {
    "id": "a3_okIAObcoc"
   },
   "outputs": [],
   "source": [
    "class Warrior(Fighter):\n",
    "    def attack(self):\n",
    "        print('칼을 휘두르다')\n",
    "\n",
    "    def defend(self):\n",
    "        print('방패를 들어올니다')\n",
    "\n",
    "    def escape(self):\n",
    "        print('뒤로 물러난다')"
   ]
  },
  {
   "cell_type": "code",
   "execution_count": null,
   "metadata": {
    "id": "0k-WsCF0EZ44"
   },
   "outputs": [],
   "source": [
    "class WizardAdapter(Fighter):\n",
    "    def __init__(self, wizard):\n",
    "        self.wizard = wizard\n",
    "\n",
    "    def attack(self):\n",
    "        self.wizard.shot_fire_ball()\n",
    "\n",
    "    def defend(self):\n",
    "        self.wizard.shield()\n",
    "\n",
    "    def escape(self):\n",
    "        self.wizard.portal()"
   ]
  },
  {
   "cell_type": "code",
   "execution_count": null,
   "metadata": {
    "id": "5vjID0uIEZ6V"
   },
   "outputs": [],
   "source": [
    "class Wizard:\n",
    "    def shot_fire_ball(self):\n",
    "        print('파이어볼 발사')\n",
    "\n",
    "    def shield(self):\n",
    "        print('주변에 보호막 씌우기')\n",
    "\n",
    "    def portal(self):\n",
    "        print('포탈 열고 이동')"
   ]
  },
  {
   "cell_type": "code",
   "execution_count": null,
   "metadata": {
    "colab": {
     "base_uri": "https://localhost:8080/"
    },
    "id": "ynfFUrpEEZ7n",
    "outputId": "9013ef04-aa4b-4909-bedc-f42186da5a35"
   },
   "outputs": [
    {
     "name": "stdout",
     "output_type": "stream",
     "text": [
      "파이어볼 발사\n",
      "주변에 보호막 씌우기\n",
      "포탈 열고 이동\n"
     ]
    }
   ],
   "source": [
    "wizard = WizardAdapter(Wizard())\n",
    "wizard.attack()\n",
    "wizard.defend()\n",
    "wizard.escape()"
   ]
  },
  {
   "cell_type": "code",
   "execution_count": null,
   "metadata": {
    "id": "hzWyAfBbEZ9D"
   },
   "outputs": [],
   "source": []
  },
  {
   "cell_type": "code",
   "execution_count": null,
   "metadata": {
    "id": "OIDwllmUEZ-U"
   },
   "outputs": [],
   "source": []
  },
  {
   "cell_type": "code",
   "execution_count": null,
   "metadata": {
    "id": "t5xFynjoEZ_9"
   },
   "outputs": [],
   "source": []
  },
  {
   "cell_type": "markdown",
   "metadata": {
    "id": "LgmKF_7F4mwu"
   },
   "source": []
  }
 ],
 "metadata": {
  "colab": {
   "collapsed_sections": [],
   "provenance": []
  },
  "kernelspec": {
   "display_name": "Python 3 (ipykernel)",
   "language": "python",
   "name": "python3"
  },
  "language_info": {
   "codemirror_mode": {
    "name": "ipython",
    "version": 3
   },
   "file_extension": ".py",
   "mimetype": "text/x-python",
   "name": "python",
   "nbconvert_exporter": "python",
   "pygments_lexer": "ipython3",
   "version": "3.9.13"
  },
  "varInspector": {
   "cols": {
    "lenName": 16,
    "lenType": 16,
    "lenVar": 40
   },
   "kernels_config": {
    "python": {
     "delete_cmd_postfix": "",
     "delete_cmd_prefix": "del ",
     "library": "var_list.py",
     "varRefreshCmd": "print(var_dic_list())"
    },
    "r": {
     "delete_cmd_postfix": ") ",
     "delete_cmd_prefix": "rm(",
     "library": "var_list.r",
     "varRefreshCmd": "cat(var_dic_list()) "
    }
   },
   "types_to_exclude": [
    "module",
    "function",
    "builtin_function_or_method",
    "instance",
    "_Feature"
   ],
   "window_display": false
  }
 },
 "nbformat": 4,
 "nbformat_minor": 1
}
