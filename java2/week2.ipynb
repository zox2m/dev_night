{
 "cells": [
  {
   "cell_type": "markdown",
   "id": "1f973842",
   "metadata": {},
   "source": [
    "# week2 기초"
   ]
  },
  {
   "cell_type": "markdown",
   "id": "4e613372",
   "metadata": {},
   "source": [
    "## 자료형\n",
    "\n"
   ]
  },
  {
   "cell_type": "code",
   "execution_count": 5,
   "id": "56b5a58a",
   "metadata": {},
   "outputs": [],
   "source": [
    "#선언구조\n",
    "def sum(a,b):\n",
    "    return a+b"
   ]
  },
  {
   "cell_type": "code",
   "execution_count": 6,
   "id": "03ac8824",
   "metadata": {},
   "outputs": [
    {
     "data": {
      "text/plain": [
       "7"
      ]
     },
     "execution_count": 6,
     "metadata": {},
     "output_type": "execute_result"
    }
   ],
   "source": [
    "sum(3,4)"
   ]
  },
  {
   "cell_type": "code",
   "execution_count": 7,
   "id": "686e66cd",
   "metadata": {},
   "outputs": [],
   "source": [
    "def cal(a,b):\n",
    "    result1 = a+b\n",
    "    result2 = a*b\n",
    "    return result1,result2"
   ]
  },
  {
   "cell_type": "code",
   "execution_count": 8,
   "id": "6ec9661b",
   "metadata": {},
   "outputs": [],
   "source": [
    "c,d = cal(3,4)"
   ]
  },
  {
   "cell_type": "code",
   "execution_count": 9,
   "id": "7bef855e",
   "metadata": {},
   "outputs": [
    {
     "data": {
      "text/plain": [
       "7"
      ]
     },
     "execution_count": 9,
     "metadata": {},
     "output_type": "execute_result"
    }
   ],
   "source": [
    "c"
   ]
  },
  {
   "cell_type": "code",
   "execution_count": 10,
   "id": "dcb348db",
   "metadata": {},
   "outputs": [
    {
     "data": {
      "text/plain": [
       "12"
      ]
     },
     "execution_count": 10,
     "metadata": {},
     "output_type": "execute_result"
    }
   ],
   "source": [
    "d"
   ]
  },
  {
   "cell_type": "code",
   "execution_count": 11,
   "id": "16f0699c",
   "metadata": {},
   "outputs": [],
   "source": [
    "def sayhi():\n",
    "    print('안녕하세요')"
   ]
  },
  {
   "cell_type": "code",
   "execution_count": 12,
   "id": "03efa1f8",
   "metadata": {},
   "outputs": [
    {
     "name": "stdout",
     "output_type": "stream",
     "text": [
      "안녕하세요\n"
     ]
    }
   ],
   "source": [
    "sayhi()"
   ]
  },
  {
   "cell_type": "code",
   "execution_count": 13,
   "id": "a716ebc3",
   "metadata": {},
   "outputs": [],
   "source": [
    "# 가변개수의 파라미터\n",
    "def test_var_args(name,*args): \n",
    "    print(\"첫번째 인자:\",name)\n",
    "    for arg in args:\n",
    "        print(\"args의 다른 인자\",arg)"
   ]
  },
  {
   "cell_type": "code",
   "execution_count": 14,
   "id": "d8908afb",
   "metadata": {},
   "outputs": [
    {
     "name": "stdout",
     "output_type": "stream",
     "text": [
      "첫번째 인자: 서주민\n",
      "args의 다른 인자 단국대\n",
      "args의 다른 인자 zzoo_oom\n"
     ]
    }
   ],
   "source": [
    "test_var_args('서주민','단국대','zzoo_oom')"
   ]
  },
  {
   "cell_type": "code",
   "execution_count": 17,
   "id": "be2e8898",
   "metadata": {},
   "outputs": [],
   "source": [
    "def test_var_kwargs(name,*args,**kwargs):\n",
    "    print(\"첫번째 인자:\",name)\n",
    "    print(kwargs)\n",
    "    for arg in args:\n",
    "        print(\"*args의 다른 인자:\",arg)"
   ]
  },
  {
   "cell_type": "code",
   "execution_count": 18,
   "id": "6e03c200",
   "metadata": {},
   "outputs": [
    {
     "name": "stdout",
     "output_type": "stream",
     "text": [
      "첫번째 인자: 서주민\n",
      "{'en_N': 'zzoo_oom'}\n",
      "*args의 다른 인자: 단국대\n"
     ]
    }
   ],
   "source": [
    "test_var_kwargs('서주민','단국대',en_N ='zzoo_oom')"
   ]
  },
  {
   "cell_type": "markdown",
   "id": "8199972f",
   "metadata": {},
   "source": [
    "# 클래스"
   ]
  },
  {
   "cell_type": "code",
   "execution_count": 51,
   "id": "d7f304e6",
   "metadata": {},
   "outputs": [],
   "source": [
    "class Person:\n",
    "    name = \"none\"\n",
    "    email = 'none'\n",
    "    num_car = 0\n",
    "\n",
    "    def set_info(name,email,num_car):\n",
    "        self.name=name\n",
    "        self.email=email\n",
    "        self.num_car=num_car\n"
   ]
  },
  {
   "cell_type": "markdown",
   "id": "ab23e972",
   "metadata": {},
   "source": [
    "## 클래스의 생성자"
   ]
  },
  {
   "cell_type": "code",
   "execution_count": 55,
   "id": "ab684f83",
   "metadata": {},
   "outputs": [],
   "source": [
    "class MyClass:\n",
    "    def __init__(self):\n",
    "        print(\"객체가 생성되었습니다.\")"
   ]
  },
  {
   "cell_type": "code",
   "execution_count": 25,
   "id": "508f2bc3",
   "metadata": {},
   "outputs": [
    {
     "name": "stdout",
     "output_type": "stream",
     "text": [
      "객체가 생성되었습니다.\n"
     ]
    }
   ],
   "source": [
    "dbj1=MyClass()"
   ]
  },
  {
   "cell_type": "markdown",
   "id": "cd32c00c",
   "metadata": {},
   "source": [
    "## init 에 매개변수, self에 배정~!"
   ]
  },
  {
   "cell_type": "code",
   "execution_count": 61,
   "id": "107ea2fb",
   "metadata": {},
   "outputs": [],
   "source": [
    "class Person:\n",
    "    #클래스의 생성자!\n",
    "    def __init__(self,name,email,num_car):\n",
    "        self.name = name\n",
    "        self.email = email\n",
    "        self.num_car = num_car\n",
    "\n",
    "    def print_info(self):\n",
    "        print('----------person-------')\n",
    "        print(\"Name:\",self.name)\n",
    "        print(\"email\",self.email)\n",
    "        print(\"Num_car\",self.num_car)\n",
    "        print('---------person--------')"
   ]
  },
  {
   "cell_type": "code",
   "execution_count": 62,
   "id": "44068f50",
   "metadata": {},
   "outputs": [
    {
     "ename": "TypeError",
     "evalue": "__init__() missing 3 required positional arguments: 'name', 'email', and 'num_car'",
     "output_type": "error",
     "traceback": [
      "\u001b[1;31m---------------------------------------------------------------------------\u001b[0m",
      "\u001b[1;31mTypeError\u001b[0m                                 Traceback (most recent call last)",
      "\u001b[1;32m~\\AppData\\Local\\Temp\\ipykernel_6504\\2694401972.py\u001b[0m in \u001b[0;36m<module>\u001b[1;34m\u001b[0m\n\u001b[0;32m      1\u001b[0m \u001b[1;31m#에러난다. 인자가 3개 필요하기때문\u001b[0m\u001b[1;33m\u001b[0m\u001b[1;33m\u001b[0m\u001b[0m\n\u001b[1;32m----> 2\u001b[1;33m \u001b[0ma\u001b[0m\u001b[1;33m=\u001b[0m\u001b[0mPerson\u001b[0m\u001b[1;33m(\u001b[0m\u001b[1;33m)\u001b[0m\u001b[1;33m\u001b[0m\u001b[1;33m\u001b[0m\u001b[0m\n\u001b[0m",
      "\u001b[1;31mTypeError\u001b[0m: __init__() missing 3 required positional arguments: 'name', 'email', and 'num_car'"
     ]
    }
   ],
   "source": [
    "#에러난다. 인자가 3개 필요하기때문\n",
    "a=Person()"
   ]
  },
  {
   "cell_type": "code",
   "execution_count": 74,
   "id": "bb248950",
   "metadata": {},
   "outputs": [
    {
     "name": "stdout",
     "output_type": "stream",
     "text": [
      "----------person-------\n",
      "Name: S jumin\n",
      "email zoom@naver.com\n",
      "Num_car 1\n",
      "---------person--------\n"
     ]
    }
   ],
   "source": [
    "sjm=Person('S jumin','zoom@naver.com',1)\n",
    "sjm.print_info()"
   ]
  },
  {
   "cell_type": "markdown",
   "id": "a850fa65",
   "metadata": {},
   "source": [
    "## 매소드 매개변수 1번엔 꼭 .self 넘겨주기!"
   ]
  },
  {
   "cell_type": "code",
   "execution_count": 83,
   "id": "89d4dcbc",
   "metadata": {},
   "outputs": [],
   "source": [
    "class exam:\n",
    "    def set_self1(self):\n",
    "        print('set1')\n",
    "        \n",
    "    def set_self2():\n",
    "        print('set2')"
   ]
  },
  {
   "cell_type": "code",
   "execution_count": 84,
   "id": "25b80b80",
   "metadata": {},
   "outputs": [],
   "source": [
    "ex1 =exam()"
   ]
  },
  {
   "cell_type": "code",
   "execution_count": 85,
   "id": "124ab069",
   "metadata": {},
   "outputs": [
    {
     "name": "stdout",
     "output_type": "stream",
     "text": [
      "set1\n"
     ]
    },
    {
     "ename": "TypeError",
     "evalue": "set_self2() takes 0 positional arguments but 1 was given",
     "output_type": "error",
     "traceback": [
      "\u001b[1;31m---------------------------------------------------------------------------\u001b[0m",
      "\u001b[1;31mTypeError\u001b[0m                                 Traceback (most recent call last)",
      "\u001b[1;32m~\\AppData\\Local\\Temp\\ipykernel_6504\\3023572595.py\u001b[0m in \u001b[0;36m<module>\u001b[1;34m\u001b[0m\n\u001b[0;32m      2\u001b[0m \u001b[1;31m# 에러난다. 내부함수에 self값을 지정하지 않으면 호출시 오류가 나기 때문.\u001b[0m\u001b[1;33m\u001b[0m\u001b[1;33m\u001b[0m\u001b[0m\n\u001b[0;32m      3\u001b[0m \u001b[1;31m# self는 본인의 메모리 주소값이다\u001b[0m\u001b[1;33m\u001b[0m\u001b[1;33m\u001b[0m\u001b[0m\n\u001b[1;32m----> 4\u001b[1;33m \u001b[0mex1\u001b[0m\u001b[1;33m.\u001b[0m\u001b[0mset_self2\u001b[0m\u001b[1;33m(\u001b[0m\u001b[1;33m)\u001b[0m\u001b[1;33m\u001b[0m\u001b[1;33m\u001b[0m\u001b[0m\n\u001b[0m",
      "\u001b[1;31mTypeError\u001b[0m: set_self2() takes 0 positional arguments but 1 was given"
     ]
    }
   ],
   "source": [
    "ex1.set_self1()\n",
    "ex1.set_self2()\n",
    "# 에러난다. 내부함수에 self값을 지정하지 않으면 호출시 오류가 나기 때문. \n",
    "# self는 본인의 메모리 주소값이다 "
   ]
  },
  {
   "cell_type": "markdown",
   "id": "5e604926",
   "metadata": {},
   "source": [
    "# .self 으로 매개변수를 가져오기!"
   ]
  },
  {
   "cell_type": "code",
   "execution_count": 72,
   "id": "53e22226",
   "metadata": {},
   "outputs": [],
   "source": [
    "class Person2:\n",
    "    def __init__(self,name,email,numcar):\n",
    "        '''\n",
    "        self.name=name\n",
    "        self.email=email\n",
    "        self.numcar=numcar\n",
    "        '''\n",
    "        #여기서 self를 빼면 지역변수가 되어버린다!!\n",
    "        name=name\n",
    "        email=email\n",
    "        numcar=numcar\n",
    "\n",
    "    def print_info(self):\n",
    "        print('----------person-------')\n",
    "        print(\"Name:\",name)\n",
    "        print(\"email\",email)\n",
    "        print(\"Num_car\",num_car)\n",
    "        print('---------person--------')"
   ]
  },
  {
   "cell_type": "code",
   "execution_count": 86,
   "id": "2b3571f6",
   "metadata": {},
   "outputs": [
    {
     "name": "stdout",
     "output_type": "stream",
     "text": [
      "----------person-------\n"
     ]
    },
    {
     "ename": "NameError",
     "evalue": "name 'name' is not defined",
     "output_type": "error",
     "traceback": [
      "\u001b[1;31m---------------------------------------------------------------------------\u001b[0m",
      "\u001b[1;31mNameError\u001b[0m                                 Traceback (most recent call last)",
      "\u001b[1;32m~\\AppData\\Local\\Temp\\ipykernel_6504\\409060844.py\u001b[0m in \u001b[0;36m<module>\u001b[1;34m\u001b[0m\n\u001b[0;32m      1\u001b[0m \u001b[0msjm\u001b[0m\u001b[1;33m=\u001b[0m\u001b[0mPerson2\u001b[0m\u001b[1;33m(\u001b[0m\u001b[1;34m'S jumin'\u001b[0m\u001b[1;33m,\u001b[0m\u001b[1;34m'zoom@naver.com'\u001b[0m\u001b[1;33m,\u001b[0m\u001b[1;36m1\u001b[0m\u001b[1;33m)\u001b[0m\u001b[1;33m\u001b[0m\u001b[1;33m\u001b[0m\u001b[0m\n\u001b[1;32m----> 2\u001b[1;33m \u001b[0msjm\u001b[0m\u001b[1;33m.\u001b[0m\u001b[0mprint_info\u001b[0m\u001b[1;33m(\u001b[0m\u001b[1;33m)\u001b[0m\u001b[1;33m\u001b[0m\u001b[1;33m\u001b[0m\u001b[0m\n\u001b[0m",
      "\u001b[1;32m~\\AppData\\Local\\Temp\\ipykernel_6504\\3222401452.py\u001b[0m in \u001b[0;36mprint_info\u001b[1;34m(self)\u001b[0m\n\u001b[0;32m     13\u001b[0m     \u001b[1;32mdef\u001b[0m \u001b[0mprint_info\u001b[0m\u001b[1;33m(\u001b[0m\u001b[0mself\u001b[0m\u001b[1;33m)\u001b[0m\u001b[1;33m:\u001b[0m\u001b[1;33m\u001b[0m\u001b[1;33m\u001b[0m\u001b[0m\n\u001b[0;32m     14\u001b[0m         \u001b[0mprint\u001b[0m\u001b[1;33m(\u001b[0m\u001b[1;34m'----------person-------'\u001b[0m\u001b[1;33m)\u001b[0m\u001b[1;33m\u001b[0m\u001b[1;33m\u001b[0m\u001b[0m\n\u001b[1;32m---> 15\u001b[1;33m         \u001b[0mprint\u001b[0m\u001b[1;33m(\u001b[0m\u001b[1;34m\"Name:\"\u001b[0m\u001b[1;33m,\u001b[0m\u001b[0mname\u001b[0m\u001b[1;33m)\u001b[0m\u001b[1;33m\u001b[0m\u001b[1;33m\u001b[0m\u001b[0m\n\u001b[0m\u001b[0;32m     16\u001b[0m         \u001b[0mprint\u001b[0m\u001b[1;33m(\u001b[0m\u001b[1;34m\"email\"\u001b[0m\u001b[1;33m,\u001b[0m\u001b[0memail\u001b[0m\u001b[1;33m)\u001b[0m\u001b[1;33m\u001b[0m\u001b[1;33m\u001b[0m\u001b[0m\n\u001b[0;32m     17\u001b[0m         \u001b[0mprint\u001b[0m\u001b[1;33m(\u001b[0m\u001b[1;34m\"Num_car\"\u001b[0m\u001b[1;33m,\u001b[0m\u001b[0mnum_car\u001b[0m\u001b[1;33m)\u001b[0m\u001b[1;33m\u001b[0m\u001b[1;33m\u001b[0m\u001b[0m\n",
      "\u001b[1;31mNameError\u001b[0m: name 'name' is not defined"
     ]
    }
   ],
   "source": [
    "sjm=Person2('S jumin','zoom@naver.com',1)\n",
    "sjm.print_info()"
   ]
  },
  {
   "cell_type": "markdown",
   "id": "a800988a",
   "metadata": {},
   "source": [
    "## 클래스의 상속\n",
    "### 부모의 생성자가 가지는 초기데이터 입력해야됨\n"
   ]
  },
  {
   "cell_type": "code",
   "execution_count": 112,
   "id": "9bb9d436",
   "metadata": {},
   "outputs": [],
   "source": [
    "class Parent:\n",
    "    def __init__(self,name):\n",
    "        self.name=name\n",
    "    def can_sing(self):\n",
    "        print('sing a song')\n"
   ]
  },
  {
   "cell_type": "code",
   "execution_count": 113,
   "id": "d287e954",
   "metadata": {},
   "outputs": [],
   "source": [
    "class Child(Parent):\n",
    "    def can_dance(self):\n",
    "        print('lets dance')"
   ]
  },
  {
   "cell_type": "code",
   "execution_count": 114,
   "id": "e2105a62",
   "metadata": {},
   "outputs": [
    {
     "ename": "TypeError",
     "evalue": "__init__() missing 1 required positional argument: 'name'",
     "output_type": "error",
     "traceback": [
      "\u001b[1;31m---------------------------------------------------------------------------\u001b[0m",
      "\u001b[1;31mTypeError\u001b[0m                                 Traceback (most recent call last)",
      "\u001b[1;32m~\\AppData\\Local\\Temp\\ipykernel_6504\\2194559962.py\u001b[0m in \u001b[0;36m<module>\u001b[1;34m\u001b[0m\n\u001b[1;32m----> 1\u001b[1;33m \u001b[0mchild1\u001b[0m\u001b[1;33m=\u001b[0m\u001b[0mChild\u001b[0m\u001b[1;33m(\u001b[0m\u001b[1;33m)\u001b[0m\u001b[1;33m\u001b[0m\u001b[1;33m\u001b[0m\u001b[0m\n\u001b[0m\u001b[0;32m      2\u001b[0m \u001b[1;31m#이렇게쓰면 부모의 매개변수 name이 누락됐다고 뜸\u001b[0m\u001b[1;33m\u001b[0m\u001b[1;33m\u001b[0m\u001b[0m\n",
      "\u001b[1;31mTypeError\u001b[0m: __init__() missing 1 required positional argument: 'name'"
     ]
    }
   ],
   "source": [
    "child1=Child()\n",
    "#이렇게쓰면 부모의 매개변수 name이 누락됐다고 뜸"
   ]
  },
  {
   "cell_type": "code",
   "execution_count": 124,
   "id": "cd699ab5",
   "metadata": {},
   "outputs": [],
   "source": [
    "child2=Child('zoom')"
   ]
  },
  {
   "cell_type": "code",
   "execution_count": 125,
   "id": "c8292a97",
   "metadata": {},
   "outputs": [
    {
     "data": {
      "text/plain": [
       "'zoom'"
      ]
     },
     "execution_count": 125,
     "metadata": {},
     "output_type": "execute_result"
    }
   ],
   "source": [
    "child2.name"
   ]
  },
  {
   "cell_type": "code",
   "execution_count": 126,
   "id": "e25dcad1",
   "metadata": {},
   "outputs": [
    {
     "name": "stdout",
     "output_type": "stream",
     "text": [
      "sing a song\n"
     ]
    }
   ],
   "source": [
    "child2.can_sing()\n",
    "#내가 몇살인데 메소드 뒤에 괄호를 잊냐.."
   ]
  },
  {
   "cell_type": "code",
   "execution_count": 127,
   "id": "ba38f966",
   "metadata": {},
   "outputs": [
    {
     "name": "stdout",
     "output_type": "stream",
     "text": [
      "lets dance\n"
     ]
    }
   ],
   "source": [
    "child2.can_dance()"
   ]
  },
  {
   "cell_type": "markdown",
   "id": "9d239a74",
   "metadata": {},
   "source": [
    "# 디자인패턴"
   ]
  },
  {
   "cell_type": "code",
   "execution_count": null,
   "id": "4847b1c5",
   "metadata": {},
   "outputs": [],
   "source": []
  }
 ],
 "metadata": {
  "kernelspec": {
   "display_name": "Python 3 (ipykernel)",
   "language": "python",
   "name": "python3"
  },
  "language_info": {
   "codemirror_mode": {
    "name": "ipython",
    "version": 3
   },
   "file_extension": ".py",
   "mimetype": "text/x-python",
   "name": "python",
   "nbconvert_exporter": "python",
   "pygments_lexer": "ipython3",
   "version": "3.9.13"
  },
  "varInspector": {
   "cols": {
    "lenName": 16,
    "lenType": 16,
    "lenVar": 40
   },
   "kernels_config": {
    "python": {
     "delete_cmd_postfix": "",
     "delete_cmd_prefix": "del ",
     "library": "var_list.py",
     "varRefreshCmd": "print(var_dic_list())"
    },
    "r": {
     "delete_cmd_postfix": ") ",
     "delete_cmd_prefix": "rm(",
     "library": "var_list.r",
     "varRefreshCmd": "cat(var_dic_list()) "
    }
   },
   "types_to_exclude": [
    "module",
    "function",
    "builtin_function_or_method",
    "instance",
    "_Feature"
   ],
   "window_display": false
  }
 },
 "nbformat": 4,
 "nbformat_minor": 5
}
