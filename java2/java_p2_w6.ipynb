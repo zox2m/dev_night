{
 "cells": [
  {
   "cell_type": "code",
   "execution_count": null,
   "metadata": {
    "id": "NwC5s1O29Wfw"
   },
   "outputs": [],
   "source": [
    "## 람다 표현식 "
   ]
  },
  {
   "cell_type": "code",
   "execution_count": null,
   "metadata": {
    "id": "OToZXg8t9Vyb"
   },
   "outputs": [],
   "source": [
    "def plus_ten(x):\n",
    "  return x + 10\n"
   ]
  },
  {
   "cell_type": "code",
   "execution_count": null,
   "metadata": {
    "colab": {
     "base_uri": "https://localhost:8080/"
    },
    "id": "sCvAedwq9ioK",
    "outputId": "0cc04b05-5996-4b02-e0c0-cd858cc57c4f"
   },
   "outputs": [
    {
     "data": {
      "text/plain": [
       "11"
      ]
     },
     "execution_count": 3,
     "metadata": {},
     "output_type": "execute_result"
    }
   ],
   "source": [
    "plus_ten(1)"
   ]
  },
  {
   "cell_type": "code",
   "execution_count": null,
   "metadata": {
    "colab": {
     "base_uri": "https://localhost:8080/"
    },
    "id": "qrOKxsmtAbgl",
    "outputId": "3b4cffef-1452-4c2b-de0f-bed2553666c7"
   },
   "outputs": [
    {
     "data": {
      "text/plain": [
       "<function __main__.<lambda>(x)>"
      ]
     },
     "execution_count": 4,
     "metadata": {},
     "output_type": "execute_result"
    }
   ],
   "source": [
    "lambda x: x + 10"
   ]
  },
  {
   "cell_type": "code",
   "execution_count": null,
   "metadata": {
    "id": "LmmIcKZQ9kap"
   },
   "outputs": [],
   "source": [
    "## lambda 매개변수 : 식 "
   ]
  },
  {
   "cell_type": "code",
   "execution_count": null,
   "metadata": {
    "id": "q9S_iVFkCBIZ"
   },
   "outputs": [],
   "source": [
    "aa = lambda x: x + 10"
   ]
  },
  {
   "cell_type": "code",
   "execution_count": null,
   "metadata": {
    "colab": {
     "base_uri": "https://localhost:8080/"
    },
    "id": "iWbyUHogCC22",
    "outputId": "bec0e14d-ef6d-43ea-9fde-3551713d8f51"
   },
   "outputs": [
    {
     "data": {
      "text/plain": [
       "12"
      ]
     },
     "execution_count": 7,
     "metadata": {},
     "output_type": "execute_result"
    }
   ],
   "source": [
    "aa(2)"
   ]
  },
  {
   "cell_type": "code",
   "execution_count": null,
   "metadata": {
    "colab": {
     "base_uri": "https://localhost:8080/"
    },
    "id": "DgP9nwhJBKBy",
    "outputId": "2d4e1fd7-3152-409c-d437-7497a8d7d08b"
   },
   "outputs": [
    {
     "data": {
      "text/plain": [
       "13"
      ]
     },
     "execution_count": 8,
     "metadata": {},
     "output_type": "execute_result"
    }
   ],
   "source": [
    "(lambda x: x + 10)(3)"
   ]
  },
  {
   "cell_type": "code",
   "execution_count": null,
   "metadata": {
    "colab": {
     "base_uri": "https://localhost:8080/",
     "height": 137
    },
    "id": "Y4zbUfc4B_Ox",
    "outputId": "970fd01d-4a0d-45a3-e2b9-baa32f074072"
   },
   "outputs": [
    {
     "ename": "SyntaxError",
     "evalue": "ignored",
     "output_type": "error",
     "traceback": [
      "\u001b[0;36m  File \u001b[0;32m\"<ipython-input-9-a848bb2b8d68>\"\u001b[0;36m, line \u001b[0;32m2\u001b[0m\n\u001b[0;31m    (lambda x: y = 10; x + y)(1)\u001b[0m\n\u001b[0m                 ^\u001b[0m\n\u001b[0;31mSyntaxError\u001b[0m\u001b[0;31m:\u001b[0m invalid syntax\n"
     ]
    }
   ],
   "source": [
    "# 람다식 안에서 변수를 만들 수 없음 \n",
    "(lambda x: y = 10; x + y)(1)"
   ]
  },
  {
   "cell_type": "code",
   "execution_count": null,
   "metadata": {
    "colab": {
     "base_uri": "https://localhost:8080/"
    },
    "id": "2Km0KJqjDMJg",
    "outputId": "dbc14b86-dcf9-46dd-9de4-3d2acdc16584"
   },
   "outputs": [
    {
     "data": {
      "text/plain": [
       "11"
      ]
     },
     "execution_count": 10,
     "metadata": {},
     "output_type": "execute_result"
    }
   ],
   "source": [
    "# 람다식 밖에 있는 변수 사용 가능 \n",
    "y = 10\n",
    "(lambda x: x + y)(1)"
   ]
  },
  {
   "cell_type": "code",
   "execution_count": null,
   "metadata": {
    "id": "4vGfnkY9H-Dy"
   },
   "outputs": [],
   "source": []
  },
  {
   "cell_type": "code",
   "execution_count": null,
   "metadata": {
    "id": "xo1dMqyOGeKg"
   },
   "outputs": [],
   "source": [
    "## map 함수 "
   ]
  },
  {
   "cell_type": "code",
   "execution_count": null,
   "metadata": {
    "colab": {
     "base_uri": "https://localhost:8080/"
    },
    "id": "Add31DICGehj",
    "outputId": "044d31b0-a009-40a0-966e-0c89fb2dce54"
   },
   "outputs": [
    {
     "name": "stdout",
     "output_type": "stream",
     "text": [
      "result1 : [11, 12, 13, 14, 15]\n"
     ]
    }
   ],
   "source": [
    "myList = [1, 2, 3, 4, 5]\n",
    "\n",
    "# for 반복문 이용\n",
    "result1 = []\n",
    "for i in myList:\n",
    "    result1.append(i + 10)\n",
    "\n",
    "print('result1 : {}'.format(result1))"
   ]
  },
  {
   "cell_type": "code",
   "execution_count": null,
   "metadata": {
    "colab": {
     "base_uri": "https://localhost:8080/"
    },
    "id": "vkxXWSlmDR53",
    "outputId": "4321478f-bed0-4885-e8ef-a2f0d2df5fed"
   },
   "outputs": [
    {
     "name": "stdout",
     "output_type": "stream",
     "text": [
      "result2 : [11, 12, 13, 14, 15]\n"
     ]
    }
   ],
   "source": [
    "# map 함수 이용\n",
    "result2 = list(map(plus_ten, myList))  # map 반환값을 list 로 변환\n",
    "print('result2 : {}'.format(result2))"
   ]
  },
  {
   "cell_type": "code",
   "execution_count": null,
   "metadata": {
    "colab": {
     "base_uri": "https://localhost:8080/"
    },
    "id": "oidgsW9SG9Kb",
    "outputId": "48e316d6-966a-42d6-aaef-d276724f02f6"
   },
   "outputs": [
    {
     "data": {
      "text/plain": [
       "<map at 0x7f85dbc92ed0>"
      ]
     },
     "execution_count": 14,
     "metadata": {},
     "output_type": "execute_result"
    }
   ],
   "source": [
    "map(plus_ten, myList)"
   ]
  },
  {
   "cell_type": "code",
   "execution_count": null,
   "metadata": {
    "colab": {
     "base_uri": "https://localhost:8080/"
    },
    "id": "Z4XOPpRLG9dX",
    "outputId": "6f3cf89c-0aea-4525-a581-6d1c75ee122b"
   },
   "outputs": [
    {
     "data": {
      "text/plain": [
       "[11, 12, 13, 14, 15]"
      ]
     },
     "execution_count": 15,
     "metadata": {},
     "output_type": "execute_result"
    }
   ],
   "source": [
    "list(map(lambda x: x + 10, myList))"
   ]
  },
  {
   "cell_type": "code",
   "execution_count": null,
   "metadata": {
    "id": "zk_3kaoxJxMM"
   },
   "outputs": [],
   "source": []
  },
  {
   "cell_type": "code",
   "execution_count": null,
   "metadata": {
    "id": "EbEhIh-JJxRA"
   },
   "outputs": [],
   "source": [
    "## lambda 매개변수 : 식1 if 조건식 else 식2"
   ]
  },
  {
   "cell_type": "code",
   "execution_count": null,
   "metadata": {
    "id": "aYEe2ulFMARG"
   },
   "outputs": [],
   "source": [
    "a = [1, 2, 3, 4, 5, 6, 7, 8, 9, 10]"
   ]
  },
  {
   "cell_type": "code",
   "execution_count": null,
   "metadata": {
    "colab": {
     "base_uri": "https://localhost:8080/"
    },
    "id": "4WUvvElOJxYH",
    "outputId": "7b384c4e-fe38-4cd6-8e72-32792ee03793"
   },
   "outputs": [
    {
     "data": {
      "text/plain": [
       "[1, 2, '3', 4, 5, '6', 7, 8, '9', 10]"
      ]
     },
     "execution_count": 18,
     "metadata": {},
     "output_type": "execute_result"
    }
   ],
   "source": [
    "list(map(lambda x : str(x) if x % 3 == 0 else x, a))"
   ]
  },
  {
   "cell_type": "code",
   "execution_count": null,
   "metadata": {
    "colab": {
     "base_uri": "https://localhost:8080/"
    },
    "id": "JfFgxdCgJxZp",
    "outputId": "32195db1-8071-4f88-cf36-5b74ebc5deeb"
   },
   "outputs": [
    {
     "data": {
      "text/plain": [
       "['1', 2.0, 13, 14, 15, 16, 17, 18, 19, 20]"
      ]
     },
     "execution_count": 19,
     "metadata": {},
     "output_type": "execute_result"
    }
   ],
   "source": [
    "## lambda 매개변수들: 식1 if 조건식1 else 식2 if 조건식2 else 식3\n",
    "\n",
    "list(map(lambda x: str(x) if x == 1 else float(x) if x == 2 else x + 10, a))"
   ]
  },
  {
   "cell_type": "code",
   "execution_count": null,
   "metadata": {
    "id": "GrcvKo5LMRo-"
   },
   "outputs": [],
   "source": [
    "def f(x):\n",
    "  if x == 1:\n",
    "    return str(x)\n",
    "  elif x == 2:\n",
    "    return float(x)\n",
    "  else:\n",
    "    return x + 10"
   ]
  },
  {
   "cell_type": "code",
   "execution_count": null,
   "metadata": {
    "colab": {
     "base_uri": "https://localhost:8080/"
    },
    "id": "U4kcnHzvN_nj",
    "outputId": "d282f4f1-eb31-4e44-e656-4c804df43751"
   },
   "outputs": [
    {
     "data": {
      "text/plain": [
       "['1', 2.0, 13, 14, 15, 16, 17, 18, 19, 20]"
      ]
     },
     "execution_count": 21,
     "metadata": {},
     "output_type": "execute_result"
    }
   ],
   "source": [
    "list(map(f, a))"
   ]
  },
  {
   "cell_type": "code",
   "execution_count": null,
   "metadata": {
    "id": "LaWhPXTjQEog"
   },
   "outputs": [],
   "source": []
  },
  {
   "cell_type": "code",
   "execution_count": null,
   "metadata": {
    "id": "OUYtl7G8OuFK"
   },
   "outputs": [],
   "source": [
    "## lambda 식에 여러가지 객체(반복가능) 사용 "
   ]
  },
  {
   "cell_type": "code",
   "execution_count": null,
   "metadata": {
    "id": "8aHPmcG-OpDj"
   },
   "outputs": [],
   "source": [
    "a = [1, 2, 3, 4, 5]\n",
    "b = [2, 4, 6, 8, 10]"
   ]
  },
  {
   "cell_type": "code",
   "execution_count": null,
   "metadata": {
    "colab": {
     "base_uri": "https://localhost:8080/"
    },
    "id": "dccX1tSiODix",
    "outputId": "b1803618-d30c-433c-f8d8-40bcb8d7adfb"
   },
   "outputs": [
    {
     "data": {
      "text/plain": [
       "[2, 8, 18, 32, 50]"
      ]
     },
     "execution_count": 24,
     "metadata": {},
     "output_type": "execute_result"
    }
   ],
   "source": [
    "list(map(lambda x, y: x * y, a, b))"
   ]
  },
  {
   "cell_type": "code",
   "execution_count": null,
   "metadata": {
    "id": "vZMopGzBOsim"
   },
   "outputs": [],
   "source": []
  },
  {
   "cell_type": "code",
   "execution_count": null,
   "metadata": {
    "id": "aN9VCC52O47K"
   },
   "outputs": [],
   "source": [
    "## filter 함수 \n",
    "## filter ( 함수 , 반복가능한 자료형 )  \n",
    "## 함수의 반환값이 True일 때만 해당 요소\n",
    "\n",
    "def f(x):\n",
    "  return x > 5 and x < 10"
   ]
  },
  {
   "cell_type": "code",
   "execution_count": null,
   "metadata": {
    "id": "643qHj4mO5Yl"
   },
   "outputs": [],
   "source": [
    "a = [8, 3, 2, 10, 15, 7, 1, 9, 0, 11]"
   ]
  },
  {
   "cell_type": "code",
   "execution_count": null,
   "metadata": {
    "colab": {
     "base_uri": "https://localhost:8080/"
    },
    "id": "QaRmLvRqO_4O",
    "outputId": "91d5e185-b919-4cff-ffaa-251d7bd7ac35"
   },
   "outputs": [
    {
     "data": {
      "text/plain": [
       "[8, 7, 9]"
      ]
     },
     "execution_count": 27,
     "metadata": {},
     "output_type": "execute_result"
    }
   ],
   "source": [
    "list(filter(f, a))"
   ]
  },
  {
   "cell_type": "code",
   "execution_count": null,
   "metadata": {
    "colab": {
     "base_uri": "https://localhost:8080/"
    },
    "id": "MkNZQSlaPD3h",
    "outputId": "2624f5b9-19bb-4c5c-9fd2-d3c6ba361e7d"
   },
   "outputs": [
    {
     "data": {
      "text/plain": [
       "[8, 7, 9]"
      ]
     },
     "execution_count": 28,
     "metadata": {},
     "output_type": "execute_result"
    }
   ],
   "source": [
    "list(filter(lambda x: x > 5 and x < 10, a))"
   ]
  },
  {
   "cell_type": "code",
   "execution_count": null,
   "metadata": {
    "id": "FGx-o7cKOrvx"
   },
   "outputs": [],
   "source": []
  },
  {
   "cell_type": "code",
   "execution_count": null,
   "metadata": {
    "id": "HLL0WZ0m2jZV"
   },
   "outputs": [],
   "source": [
    "## compossite 패턴 "
   ]
  },
  {
   "cell_type": "code",
   "execution_count": null,
   "metadata": {
    "id": "U16VT8nBMQnq"
   },
   "outputs": [],
   "source": []
  },
  {
   "cell_type": "code",
   "execution_count": null,
   "metadata": {
    "id": "b-4aE6PbwhYm"
   },
   "outputs": [],
   "source": [
    "from abc import *"
   ]
  },
  {
   "cell_type": "code",
   "execution_count": null,
   "metadata": {
    "id": "Mxzi70uDyEE-"
   },
   "outputs": [],
   "source": [
    "## component\n",
    "class Node(metaclass=ABCMeta):\n",
    "    def __init__(self):\n",
    "        self.name = None\n",
    "\n",
    "    @abstractmethod\n",
    "    def print(self):\n",
    "        pass"
   ]
  },
  {
   "cell_type": "code",
   "execution_count": null,
   "metadata": {
    "id": "zXe1gK0zyFGE"
   },
   "outputs": [],
   "source": [
    "## leaf\n",
    "class File(Node):\n",
    "    def __init__(self, name):\n",
    "        self.name = name\n",
    "\n",
    "    def print(self):\n",
    "        print('파일 이름 : {}'.format(self.name))"
   ]
  },
  {
   "cell_type": "code",
   "execution_count": null,
   "metadata": {
    "id": "aFF-hq85yOaL"
   },
   "outputs": [],
   "source": [
    "## composite \n",
    "class Directory(Node):\n",
    "    def __init__(self, name):\n",
    "        self.name = name\n",
    "        self.nodes = []\n",
    "\n",
    "    def add(self, node):\n",
    "        self.nodes.append(node)\n",
    "\n",
    "    def remove(self, node):\n",
    "        self.nodes.remove(node)\n",
    "\n",
    "    def print(self):\n",
    "        print('티렉토리 이름  : {}'.format(self.name))\n",
    "        for node in self.nodes:\n",
    "            node.print()"
   ]
  },
  {
   "cell_type": "code",
   "execution_count": null,
   "metadata": {
    "id": "bXOGAVtiyO2i"
   },
   "outputs": [],
   "source": [
    "# 루트 디렉토리 생성 후 파일 2개 추가\n",
    "directory = Directory('/')\n",
    "directory.add(File('data1.txt'))\n",
    "directory.add(File('data2.txt'))"
   ]
  },
  {
   "cell_type": "code",
   "execution_count": null,
   "metadata": {
    "id": "g6SjMp2Gx58W"
   },
   "outputs": [],
   "source": [
    "# hello 디렉토리 생성 후 파일을 하나 생성하고 루트 디렉토리에 추가\n",
    "directory2 = Directory('hello')\n",
    "directory2.add(File('data3.txt'))\n",
    "directory.add(directory2)"
   ]
  },
  {
   "cell_type": "code",
   "execution_count": null,
   "metadata": {
    "colab": {
     "base_uri": "https://localhost:8080/"
    },
    "id": "gPyrUU9dyVgu",
    "outputId": "5f9967ca-113e-4a2d-b363-fd2c1ae7ca4d"
   },
   "outputs": [
    {
     "name": "stdout",
     "output_type": "stream",
     "text": [
      "루트 디렉토리 출력\n",
      "티렉토리 이름  : /\n",
      "파일 이름 : data1.txt\n",
      "파일 이름 : data2.txt\n",
      "티렉토리 이름  : hello\n",
      "파일 이름 : data3.txt\n"
     ]
    }
   ],
   "source": [
    "print('루트 디렉토리 출력')\n",
    "directory.print()"
   ]
  },
  {
   "cell_type": "code",
   "execution_count": null,
   "metadata": {
    "id": "b7PjpaeM2b3U"
   },
   "outputs": [],
   "source": []
  },
  {
   "cell_type": "code",
   "execution_count": null,
   "metadata": {
    "id": "T94SRLBiU21p"
   },
   "outputs": [],
   "source": [
    "## 브리지 패턴 "
   ]
  },
  {
   "cell_type": "code",
   "execution_count": null,
   "metadata": {
    "id": "NKGy16yOv_HH"
   },
   "outputs": [],
   "source": [
    "from abc import * \n",
    "\n",
    "class Color(metaclass = ABCMeta):\n",
    "    ## 구현 클래스 \n",
    "    @abstractmethod\n",
    "    def fill_color(self):\n",
    "        pass"
   ]
  },
  {
   "cell_type": "code",
   "execution_count": null,
   "metadata": {
    "id": "Pn_FNuelU4kv"
   },
   "outputs": [],
   "source": [
    "class RedColor(Color):\n",
    "    def fill_color(self):\n",
    "        print('빨간색 으로 채워 ! ')\n",
    "\n",
    "class BlueColor(Color):\n",
    "    def fill_color(self):\n",
    "        print('파란색 으로 채워 ! ')"
   ]
  },
  {
   "cell_type": "code",
   "execution_count": null,
   "metadata": {
    "id": "QyoYUXacVPSK"
   },
   "outputs": [],
   "source": [
    "class Shape(metaclass = ABCMeta):\n",
    "    ## 기능 클래스 \n",
    "    def __init__(self, color):\n",
    "        self.color = color\n",
    "\n",
    "    @abstractmethod\n",
    "    def color_it(self):\n",
    "        pass"
   ]
  },
  {
   "cell_type": "code",
   "execution_count": null,
   "metadata": {
    "id": "Dx6ZkuSdvAtb"
   },
   "outputs": [],
   "source": [
    "class Rectangle(Shape):\n",
    "    def __init__(self, color):\n",
    "        super().__init__(color)\n",
    "\n",
    "    def color_it(self):\n",
    "        print(' 사각형 선택 ! ')\n",
    "        self.color.fill_color()\n",
    "\n",
    "class Circle(Shape):\n",
    "    def __init__(self, color):\n",
    "        super().__init__(color)\n",
    "\n",
    "    def color_it(self):\n",
    "        print(' 원 선택 ! ')\n",
    "        self.color.fill_color()"
   ]
  },
  {
   "cell_type": "code",
   "execution_count": null,
   "metadata": {
    "colab": {
     "base_uri": "https://localhost:8080/"
    },
    "id": "O4FwDIVjVapH",
    "outputId": "7b2e4bab-d508-4cc8-f44a-aac37b7427d8"
   },
   "outputs": [
    {
     "name": "stdout",
     "output_type": "stream",
     "text": [
      " 사각형 선택 ! \n",
      "파란색 으로 채워 ! \n"
     ]
    }
   ],
   "source": [
    "blue_rectangle = Rectangle(BlueColor())\n",
    "blue_rectangle.color_it()"
   ]
  },
  {
   "cell_type": "code",
   "execution_count": null,
   "metadata": {
    "colab": {
     "base_uri": "https://localhost:8080/"
    },
    "id": "Tx8t3KpXVda-",
    "outputId": "e1d30dbf-5603-4a21-ee5e-28b8960eb285"
   },
   "outputs": [
    {
     "name": "stdout",
     "output_type": "stream",
     "text": [
      " 원 선택 ! \n",
      "빨간색 으로 채워 ! \n"
     ]
    }
   ],
   "source": [
    "red_circle = Circle(RedColor())\n",
    "red_circle.color_it()"
   ]
  },
  {
   "cell_type": "code",
   "execution_count": null,
   "metadata": {
    "id": "GcCH52KeWJRM"
   },
   "outputs": [],
   "source": []
  },
  {
   "cell_type": "code",
   "execution_count": null,
   "metadata": {
    "id": "qoNViIlq2s1g"
   },
   "outputs": [],
   "source": [
    "## Flyweight pattern "
   ]
  },
  {
   "cell_type": "code",
   "execution_count": null,
   "metadata": {
    "id": "RYY1hwZv2v9K"
   },
   "outputs": [],
   "source": [
    "import random\n",
    "from abc import *\n",
    "\n",
    "class Shape(metaclass = ABCMeta):\n",
    "    @abstractmethod\n",
    "    def draw(self):\n",
    "        pass\n",
    "\n",
    "\n",
    "class Circle(Shape):\n",
    "    def __init__(self, x, y, radius, bg_image):\n",
    "        self.x = x\n",
    "        self.y = y\n",
    "        self.radius = radius\n",
    "        self.bg_image = bg_image\n",
    "\n",
    "    def draw(self):\n",
    "        print(' 원그리기  - x : {},\\t y : {},\\t 반지름 : {},\\t 배경이미지 : {} '\n",
    "              .format(self.x,self.y,self.radius   ,self.bg_image.filename ))"
   ]
  },
  {
   "cell_type": "code",
   "execution_count": null,
   "metadata": {
    "id": "g7DplBbt23hw"
   },
   "outputs": [],
   "source": [
    "class Image:\n",
    "    def __init__(self, filename):\n",
    "        self.filename = filename\n",
    "        print('이미지 로드 {}'.format(self.filename))\n",
    "\n",
    "\n",
    "class ShapeFactory:\n",
    "    bg_images = {}\n",
    "\n",
    "    @classmethod\n",
    "    def get_circle(cls, x, y, radius, bg_image_filename):\n",
    "        bg_image = cls.bg_images.get(bg_image_filename, None)\n",
    "        if bg_image is None:\n",
    "            bg_image = Image(bg_image_filename)\n",
    "            cls.bg_images[bg_image_filename] = bg_image\n",
    "\n",
    "        return Circle(x, y, radius, bg_image)"
   ]
  },
  {
   "cell_type": "code",
   "execution_count": null,
   "metadata": {
    "colab": {
     "base_uri": "https://localhost:8080/"
    },
    "id": "CQbZ6Skq44mP",
    "outputId": "18cfba9f-078d-48f8-dabf-ee7bde58428b"
   },
   "outputs": [
    {
     "name": "stdout",
     "output_type": "stream",
     "text": [
      "이미지 로드 flower.png\n",
      "이미지 로드 butterfly.png\n"
     ]
    }
   ],
   "source": [
    "bg_image_filenames = ['flower.png', 'butterfly.png']\n",
    "\n",
    "circles = []\n",
    "for i in range(10):\n",
    "    x = random.randint(0, 1000)\n",
    "    y = random.randint(0, 1000)\n",
    "    radius = random.randint(1, 100)\n",
    "    bg_image_filename = bg_image_filenames[radius % len(bg_image_filenames)]\n",
    "\n",
    "    circle = ShapeFactory.get_circle(x, y, radius, bg_image_filename)\n",
    "    circles.append(circle)"
   ]
  },
  {
   "cell_type": "code",
   "execution_count": null,
   "metadata": {
    "colab": {
     "base_uri": "https://localhost:8080/"
    },
    "id": "p_zcIaU3LkdC",
    "outputId": "0185879f-1d48-4ba7-c530-e1e6f4e132fe"
   },
   "outputs": [
    {
     "name": "stdout",
     "output_type": "stream",
     "text": [
      " 원그리기  - x : 798,\t y : 384,\t 반지름 : 6,\t 배경이미지 : flower.png \n",
      " 원그리기  - x : 732,\t y : 165,\t 반지름 : 91,\t 배경이미지 : butterfly.png \n",
      " 원그리기  - x : 859,\t y : 923,\t 반지름 : 11,\t 배경이미지 : butterfly.png \n",
      " 원그리기  - x : 505,\t y : 438,\t 반지름 : 4,\t 배경이미지 : flower.png \n",
      " 원그리기  - x : 463,\t y : 469,\t 반지름 : 60,\t 배경이미지 : flower.png \n",
      " 원그리기  - x : 220,\t y : 744,\t 반지름 : 88,\t 배경이미지 : flower.png \n",
      " 원그리기  - x : 13,\t y : 9,\t 반지름 : 88,\t 배경이미지 : flower.png \n",
      " 원그리기  - x : 765,\t y : 518,\t 반지름 : 44,\t 배경이미지 : flower.png \n",
      " 원그리기  - x : 467,\t y : 471,\t 반지름 : 99,\t 배경이미지 : butterfly.png \n",
      " 원그리기  - x : 707,\t y : 244,\t 반지름 : 69,\t 배경이미지 : butterfly.png \n"
     ]
    }
   ],
   "source": [
    "for circle in circles:\n",
    "    circle.draw()"
   ]
  },
  {
   "cell_type": "code",
   "execution_count": null,
   "metadata": {
    "id": "wYhL8S9q4-mJ"
   },
   "outputs": [],
   "source": [
    "## Proxy pattern "
   ]
  },
  {
   "cell_type": "code",
   "execution_count": null,
   "metadata": {
    "id": "ijUx3Fv1LaJy"
   },
   "outputs": [],
   "source": [
    "import time\n",
    "from abc import *"
   ]
  },
  {
   "cell_type": "code",
   "execution_count": null,
   "metadata": {
    "id": "pv27U_rHLgMp"
   },
   "outputs": [],
   "source": [
    "## Subject \n",
    "class Image(metaclass = ABCMeta):\n",
    "    def __init__(self):\n",
    "        self.filename = None\n",
    "\n",
    "    @abstractmethod\n",
    "    def display(self):\n",
    "        pass"
   ]
  },
  {
   "cell_type": "code",
   "execution_count": null,
   "metadata": {
    "id": "1rHMSvWULf09"
   },
   "outputs": [],
   "source": [
    "## RealSubject \n",
    "class RealImage(Image):\n",
    "    def __init__(self, filename):\n",
    "        self.filename = filename\n",
    "        self.load_from_disk()\n",
    "\n",
    "    def load_from_disk(self):\n",
    "        print('loading {}'.format(self.filename))\n",
    "        time.sleep(5)\n",
    "\n",
    "    def display(self):\n",
    "        print('displaying {}'.format(self.filename))"
   ]
  },
  {
   "cell_type": "code",
   "execution_count": null,
   "metadata": {
    "id": "TBWBrglALWGz"
   },
   "outputs": [],
   "source": [
    "## Proxy\n",
    "class ProxyImage(Image):\n",
    "    def __init__(self, filename):\n",
    "        self.filename = filename\n",
    "        self.real_image = None\n",
    "\n",
    "    def display(self):\n",
    "        if self.real_image is None:\n",
    "            self.real_image = RealImage(self.filename)\n",
    "        self.real_image.display()"
   ]
  },
  {
   "cell_type": "code",
   "execution_count": null,
   "metadata": {
    "id": "DXMydlqFQH7H"
   },
   "outputs": [],
   "source": [
    "proxy_image = ProxyImage('hello.png')"
   ]
  },
  {
   "cell_type": "code",
   "execution_count": null,
   "metadata": {
    "colab": {
     "base_uri": "https://localhost:8080/"
    },
    "id": "PqpG-fZ9Lv37",
    "outputId": "5d694149-97ac-4d90-a518-e9a102bf44b6"
   },
   "outputs": [
    {
     "name": "stdout",
     "output_type": "stream",
     "text": [
      "loading hello.png\n",
      "displaying hello.png\n"
     ]
    }
   ],
   "source": [
    "proxy_image.display()"
   ]
  },
  {
   "cell_type": "code",
   "execution_count": null,
   "metadata": {
    "id": "lAes8cBbLkVT"
   },
   "outputs": [],
   "source": [
    "## RealImage 객체에 집접 접근하지 않고 프록시객체( ProxyImage) 를 통해서 RealImage 객체에 접근\n",
    "## RealImage 객체는 생성시 디스크에서 파일을 읽어오는 행위를 하기 때문에 시간이 오래 걸리지만, \n",
    "## ProxyImage 객체를 통해서 사용하는 경우 RealImage를 display() 하는 경우(실제 사용 시점)에 디스크에서 이미지를 로드\n",
    "## 프록시 패턴을 통해서 Lazy initialization 가능 "
   ]
  },
  {
   "cell_type": "code",
   "execution_count": null,
   "metadata": {
    "colab": {
     "base_uri": "https://localhost:8080/"
    },
    "id": "tQvGSqfANdyX",
    "outputId": "adb7fcf7-0f32-4c96-d229-fee9c3ef6df0"
   },
   "outputs": [
    {
     "name": "stdout",
     "output_type": "stream",
     "text": [
      "displaying hello.png\n"
     ]
    }
   ],
   "source": [
    "proxy_image.display()"
   ]
  },
  {
   "cell_type": "code",
   "execution_count": null,
   "metadata": {
    "colab": {
     "base_uri": "https://localhost:8080/"
    },
    "id": "R5PJkG8dNkGR",
    "outputId": "f71d5cb5-5406-4327-b2aa-57e266cfdb83"
   },
   "outputs": [
    {
     "name": "stdout",
     "output_type": "stream",
     "text": [
      "displaying hello.png\n"
     ]
    }
   ],
   "source": [
    "proxy_image.display()"
   ]
  },
  {
   "cell_type": "code",
   "execution_count": null,
   "metadata": {
    "id": "0WYiRRPFPlyc"
   },
   "outputs": [],
   "source": []
  }
 ],
 "metadata": {
  "colab": {
   "collapsed_sections": [],
   "provenance": []
  },
  "kernelspec": {
   "display_name": "Python 3 (ipykernel)",
   "language": "python",
   "name": "python3"
  },
  "language_info": {
   "codemirror_mode": {
    "name": "ipython",
    "version": 3
   },
   "file_extension": ".py",
   "mimetype": "text/x-python",
   "name": "python",
   "nbconvert_exporter": "python",
   "pygments_lexer": "ipython3",
   "version": "3.9.13"
  },
  "varInspector": {
   "cols": {
    "lenName": 16,
    "lenType": 16,
    "lenVar": 40
   },
   "kernels_config": {
    "python": {
     "delete_cmd_postfix": "",
     "delete_cmd_prefix": "del ",
     "library": "var_list.py",
     "varRefreshCmd": "print(var_dic_list())"
    },
    "r": {
     "delete_cmd_postfix": ") ",
     "delete_cmd_prefix": "rm(",
     "library": "var_list.r",
     "varRefreshCmd": "cat(var_dic_list()) "
    }
   },
   "types_to_exclude": [
    "module",
    "function",
    "builtin_function_or_method",
    "instance",
    "_Feature"
   ],
   "window_display": false
  }
 },
 "nbformat": 4,
 "nbformat_minor": 1
}
