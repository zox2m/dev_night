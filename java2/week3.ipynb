{
 "cells": [
  {
   "cell_type": "markdown",
   "id": "5dd60286",
   "metadata": {},
   "source": [
    "# week3 디자인패턴"
   ]
  },
  {
   "cell_type": "code",
   "execution_count": 1,
   "id": "341001f6",
   "metadata": {},
   "outputs": [],
   "source": [
    "class Person:\n",
    "    def __init__(self,name,email,num_car):\n",
    "        self._name=name\n",
    "        self._email=email\n",
    "        self._num_car=num_car\n",
    "        \n",
    "    def _print_info(self):\n",
    "        print(\"-------person-------\")\n",
    "        print(\"Name:\",self._name)\n",
    "        print(\"e-mail:\",self._email)\n",
    "        print(\"Car cnt:\",self._num_car)\n",
    "        print(\"-------person-------\")\n",
    "        \n",
    "    def get_name(self):\n",
    "        return self._name"
   ]
  },
  {
   "cell_type": "code",
   "execution_count": 2,
   "id": "cc7b7295",
   "metadata": {},
   "outputs": [
    {
     "data": {
      "text/plain": [
       "'zoom'"
      ]
     },
     "execution_count": 2,
     "metadata": {},
     "output_type": "execute_result"
    }
   ],
   "source": [
    "sjm = Person('zoom','zoom@naver.com',1)\n",
    "sjm._name"
   ]
  },
  {
   "cell_type": "code",
   "execution_count": 3,
   "id": "b3953cbe",
   "metadata": {},
   "outputs": [
    {
     "data": {
      "text/plain": [
       "'zoom'"
      ]
     },
     "execution_count": 3,
     "metadata": {},
     "output_type": "execute_result"
    }
   ],
   "source": [
    "sjm.get_name()"
   ]
  },
  {
   "cell_type": "code",
   "execution_count": 4,
   "id": "3c897cb2",
   "metadata": {},
   "outputs": [
    {
     "name": "stdout",
     "output_type": "stream",
     "text": [
      "-------person-------\n",
      "Name: zoom\n",
      "e-mail: zoom@naver.com\n",
      "Car cnt: 1\n",
      "-------person-------\n"
     ]
    }
   ],
   "source": [
    "sjm._print_info()\n",
    "# _로 시작하는 이름들은, 겉에서 . 찍었을때 추천으로 뜨진 않지만 \n",
    "# 억지로 쓰면 접근은 가능함"
   ]
  },
  {
   "cell_type": "code",
   "execution_count": null,
   "id": "5869c90f",
   "metadata": {},
   "outputs": [],
   "source": []
  },
  {
   "cell_type": "code",
   "execution_count": 5,
   "id": "0a8e4365",
   "metadata": {},
   "outputs": [],
   "source": [
    "class Person2:\n",
    "    def __init__(self,name,email,car):\n",
    "        self.__name=name\n",
    "        self.__email=email\n",
    "        self.__car=car\n",
    "    \n",
    "    def print_info(self):\n",
    "        print('---person---')\n",
    "        print('name:', self.__name)\n",
    "        print('e-mail:',self.__email)\n",
    "        print('car:',self.__car)\n",
    "        print('----person---')\n",
    "        \n",
    "    def __Get_name(self):\n",
    "        return self.__name"
   ]
  },
  {
   "cell_type": "code",
   "execution_count": 6,
   "id": "fdd0864a",
   "metadata": {},
   "outputs": [],
   "source": [
    "sjm2=Person2('zoom','zoom@naver.com',1)"
   ]
  },
  {
   "cell_type": "code",
   "execution_count": 7,
   "id": "ea85a7b8",
   "metadata": {},
   "outputs": [
    {
     "ename": "AttributeError",
     "evalue": "'Person2' object has no attribute '__name'",
     "output_type": "error",
     "traceback": [
      "\u001b[1;31m---------------------------------------------------------------------------\u001b[0m",
      "\u001b[1;31mAttributeError\u001b[0m                            Traceback (most recent call last)",
      "\u001b[1;32m~\\AppData\\Local\\Temp\\ipykernel_6688\\2357639337.py\u001b[0m in \u001b[0;36m<module>\u001b[1;34m\u001b[0m\n\u001b[1;32m----> 1\u001b[1;33m \u001b[0msjm2\u001b[0m\u001b[1;33m.\u001b[0m\u001b[0m__name\u001b[0m\u001b[1;33m\u001b[0m\u001b[1;33m\u001b[0m\u001b[0m\n\u001b[0m",
      "\u001b[1;31mAttributeError\u001b[0m: 'Person2' object has no attribute '__name'"
     ]
    }
   ],
   "source": [
    "sjm2.__name"
   ]
  },
  {
   "cell_type": "code",
   "execution_count": 8,
   "id": "c5a0f07d",
   "metadata": {},
   "outputs": [
    {
     "ename": "AttributeError",
     "evalue": "'Person2' object has no attribute '__get_name'",
     "output_type": "error",
     "traceback": [
      "\u001b[1;31m---------------------------------------------------------------------------\u001b[0m",
      "\u001b[1;31mAttributeError\u001b[0m                            Traceback (most recent call last)",
      "\u001b[1;32m~\\AppData\\Local\\Temp\\ipykernel_6688\\1714731250.py\u001b[0m in \u001b[0;36m<module>\u001b[1;34m\u001b[0m\n\u001b[1;32m----> 1\u001b[1;33m \u001b[0msjm2\u001b[0m\u001b[1;33m.\u001b[0m\u001b[0m__get_name\u001b[0m\u001b[1;33m(\u001b[0m\u001b[1;33m)\u001b[0m\u001b[1;33m\u001b[0m\u001b[1;33m\u001b[0m\u001b[0m\n\u001b[0m\u001b[0;32m      2\u001b[0m \u001b[1;31m#이렇게 에러가 난다고 한다~\u001b[0m\u001b[1;33m\u001b[0m\u001b[1;33m\u001b[0m\u001b[0m\n\u001b[0;32m      3\u001b[0m \u001b[1;31m#근데..위에건 왜 접근가능하지?\u001b[0m\u001b[1;33m\u001b[0m\u001b[1;33m\u001b[0m\u001b[0m\n\u001b[0;32m      4\u001b[0m \u001b[1;31m#이건 안되는데 같은 클래스 맞는거 아님?\u001b[0m\u001b[1;33m\u001b[0m\u001b[1;33m\u001b[0m\u001b[0m\n",
      "\u001b[1;31mAttributeError\u001b[0m: 'Person2' object has no attribute '__get_name'"
     ]
    }
   ],
   "source": [
    "sjm2.__get_name()\n",
    "#이렇게 에러가 난다고 한다~\n",
    "#근데..위에건 왜 접근가능하지?\n",
    "#이건 안되는데 같은 클래스 맞는거 아님?"
   ]
  },
  {
   "cell_type": "raw",
   "id": "805df90b",
   "metadata": {},
   "source": [
    "## 개체속성 확인 내장함수"
   ]
  },
  {
   "cell_type": "code",
   "execution_count": 9,
   "id": "ad1ed53a",
   "metadata": {},
   "outputs": [],
   "source": [
    "class Calculate:\n",
    "    def __init__(self,x,y):\n",
    "        self.x=x\n",
    "        self.y=y\n",
    "    \n",
    "    def add(self):\n",
    "        return self.x+self.y\n",
    "    "
   ]
  },
  {
   "cell_type": "code",
   "execution_count": 10,
   "id": "fcc15a90",
   "metadata": {},
   "outputs": [],
   "source": [
    "a=Calculate(10,10)"
   ]
  },
  {
   "cell_type": "code",
   "execution_count": 11,
   "id": "15a79c31",
   "metadata": {},
   "outputs": [
    {
     "ename": "NameError",
     "evalue": "name 'x' is not defined",
     "output_type": "error",
     "traceback": [
      "\u001b[1;31m---------------------------------------------------------------------------\u001b[0m",
      "\u001b[1;31mNameError\u001b[0m                                 Traceback (most recent call last)",
      "\u001b[1;32m~\\AppData\\Local\\Temp\\ipykernel_6688\\2382523204.py\u001b[0m in \u001b[0;36m<module>\u001b[1;34m\u001b[0m\n\u001b[1;32m----> 1\u001b[1;33m \u001b[0mhasattr\u001b[0m\u001b[1;33m(\u001b[0m\u001b[0ma\u001b[0m\u001b[1;33m,\u001b[0m\u001b[0mx\u001b[0m\u001b[1;33m)\u001b[0m\u001b[1;33m\u001b[0m\u001b[1;33m\u001b[0m\u001b[0m\n\u001b[0m\u001b[0;32m      2\u001b[0m \u001b[1;31m# 이건또 뭐지? hassttr 함수의 특직인갑다.\u001b[0m\u001b[1;33m\u001b[0m\u001b[1;33m\u001b[0m\u001b[0m\n",
      "\u001b[1;31mNameError\u001b[0m: name 'x' is not defined"
     ]
    }
   ],
   "source": [
    "hasattr(a,x)\n",
    "# 이건또 뭐지? hassttr 함수의 특직인갑다."
   ]
  },
  {
   "cell_type": "code",
   "execution_count": 12,
   "id": "4ad21154",
   "metadata": {},
   "outputs": [
    {
     "data": {
      "text/plain": [
       "True"
      ]
     },
     "execution_count": 12,
     "metadata": {},
     "output_type": "execute_result"
    }
   ],
   "source": [
    "hasattr(a,'x')"
   ]
  },
  {
   "cell_type": "markdown",
   "id": "8261ba0a",
   "metadata": {},
   "source": [
    "## 메소드 오버라이딩"
   ]
  },
  {
   "cell_type": "code",
   "execution_count": 13,
   "id": "a73eb4a1",
   "metadata": {},
   "outputs": [
    {
     "name": "stdout",
     "output_type": "stream",
     "text": [
      "나는 주민이야~\n"
     ]
    }
   ],
   "source": [
    "#매소드 오버라이딩\n",
    "class Person:\n",
    "    def greeting(self):\n",
    "        print('안녕?')\n",
    "    \n",
    "class Student(Person):\n",
    "    def greeting(self):\n",
    "        print('나는 주민이야~')\n",
    "\n",
    "Ellen =Student()\n",
    "Ellen.greeting()"
   ]
  },
  {
   "cell_type": "code",
   "execution_count": 14,
   "id": "0bcf549e",
   "metadata": {
    "scrolled": true
   },
   "outputs": [
    {
     "name": "stdout",
     "output_type": "stream",
     "text": [
      "안녕?\n",
      "나는 주민이야~\n"
     ]
    }
   ],
   "source": [
    "#매소드 오버라이딩2\n",
    "class Person:\n",
    "    def greeting(self):\n",
    "        print('안녕?')\n",
    "    \n",
    "class Student(Person):\n",
    "    def greeting(self):\n",
    "        super().greeting() # 부모 클래스를 의미하는 super. 을 사용한다! \n",
    "        print('나는 주민이야~')\n",
    "\n",
    "Ellen =Student()\n",
    "Ellen.greeting()"
   ]
  },
  {
   "cell_type": "markdown",
   "id": "6ed6ae00",
   "metadata": {},
   "source": [
    "## 정적 메소드"
   ]
  },
  {
   "cell_type": "code",
   "execution_count": 15,
   "id": "c80676c5",
   "metadata": {},
   "outputs": [],
   "source": [
    "#정적 메소드느 인스턴스화 하지 않고 메소드 호출가능\n",
    "#독립적으로 사용하기때문에 다른 속성에 접근하거나 \n",
    "#해당 클래스 내의 메소드 호출불가\n",
    "#이런 메소드 위에 @staticmethod 키워드 붙인다\n",
    "class Calc:\n",
    "    @staticmethod\n",
    "    def add(a,b):\n",
    "        print(a+b)\n",
    "    @staticmethod\n",
    "    def mul(a,b):\n",
    "        print(a*b)\n"
   ]
  },
  {
   "cell_type": "code",
   "execution_count": 16,
   "id": "064331c9",
   "metadata": {},
   "outputs": [
    {
     "name": "stdout",
     "output_type": "stream",
     "text": [
      "30\n",
      "200\n"
     ]
    }
   ],
   "source": [
    "Calc.add(10,20)\n",
    "Calc.mul(10,20)\n",
    "#객체명이 아닌, 클래스명으로 사용가능~짱이다"
   ]
  },
  {
   "cell_type": "markdown",
   "id": "da06ee52",
   "metadata": {},
   "source": [
    "## 클래스 메소드"
   ]
  },
  {
   "cell_type": "code",
   "execution_count": 17,
   "id": "3ad43caf",
   "metadata": {},
   "outputs": [],
   "source": [
    "# 인스턴스화 하지 않고 메소드 호출( 정적 메소드와 같음)\n",
    "# 메소드 안에서 클래스의 다른 속성이나 클래스 메소드에 접근가능( 정적메소드와 차이)\n",
    "#메소드 위에 @clasmethod 붙임\n",
    "class Person:\n",
    "    count =0 #클래스 속성\n",
    "    def __init__(self):\n",
    "        Person.count += 1\n",
    "        #인스턴스가 만들어질 때 클래스 속성 count에 1을 더함\n",
    "    \n",
    "    @classmethod\n",
    "    def print_count(cls):\n",
    "        print('{0}명 생성되었습니다.'.format(cls.count))\n",
    "        #cls로 클래스 속성에 접근 (self는 자기 클래스 주소라고 했나?)\n",
    "        #cls는 현재 클래스를 의미함. \n",
    "        #cls와 self 의 차이가 뭐지? \n",
    "        #객체메소드일땐 self, 클래스매소드일단 cls을 넘겨주는것!\n",
    "    "
   ]
  },
  {
   "cell_type": "code",
   "execution_count": 18,
   "id": "b8734a5d",
   "metadata": {},
   "outputs": [],
   "source": [
    "jason=Person()\n",
    "jessi=Person()"
   ]
  },
  {
   "cell_type": "code",
   "execution_count": 21,
   "id": "a8824c48",
   "metadata": {},
   "outputs": [
    {
     "name": "stdout",
     "output_type": "stream",
     "text": [
      "2명 생성되었습니다.\n"
     ]
    }
   ],
   "source": [
    "Person.print_count()"
   ]
  },
  {
   "cell_type": "code",
   "execution_count": 14,
   "id": "08522801",
   "metadata": {},
   "outputs": [],
   "source": [
    "class Person2:\n",
    "    count =0 #클래스 속성\n",
    "    def __init__(self):\n",
    "        Person2.count += 1\n",
    "        #인스턴스가 만들어질 때 클래스 속성 count에 1을 더함\n",
    "    \n",
    "    @classmethod\n",
    "    def print_count(cls):\n",
    "        print('{0}명 생성되었습니다.'.format(cls.count))\n",
    "    @classmethod\n",
    "    def create(cls):\n",
    "        p=cls()\n",
    "        return p"
   ]
  },
  {
   "cell_type": "code",
   "execution_count": 15,
   "id": "fc83131e",
   "metadata": {},
   "outputs": [],
   "source": [
    "jason=Person2()\n",
    "jessi=Person2()\n",
    "# Person2.creat()도 같은 기능"
   ]
  },
  {
   "cell_type": "code",
   "execution_count": 16,
   "id": "f4588a66",
   "metadata": {},
   "outputs": [
    {
     "name": "stdout",
     "output_type": "stream",
     "text": [
      "2명 생성되었습니다.\n"
     ]
    }
   ],
   "source": [
    "Person2.print_count()"
   ]
  },
  {
   "cell_type": "code",
   "execution_count": 17,
   "id": "4bf41164",
   "metadata": {},
   "outputs": [
    {
     "name": "stdout",
     "output_type": "stream",
     "text": [
      "3명 생성되었습니다.\n"
     ]
    }
   ],
   "source": [
    "Person2.create().print_count()"
   ]
  },
  {
   "cell_type": "markdown",
   "id": "742d79aa",
   "metadata": {},
   "source": [
    "## 메소드 타입"
   ]
  },
  {
   "cell_type": "code",
   "execution_count": 34,
   "id": "d4303d78",
   "metadata": {},
   "outputs": [],
   "source": [
    "class MethodTypes:\n",
    "    fristname=\"ju min\"\n",
    "    def instanceMethod(self):\n",
    "        #우리가 일반적으로 사용하는 인스턴스 메소드\n",
    "        self.lastname = \"seo\"\n",
    "        print(self.fristname)\n",
    "        print(self.lastname)\n",
    "        \n",
    "    @classmethod\n",
    "    def classMethod(cls):\n",
    "        #클래스 메소드\n",
    "        cls.name=\"jumin\"\n",
    "        print(cls.name)\n",
    "    \n",
    "    @classmethod\n",
    "    def staticMethod(cls):\n",
    "        #정적메소드\n",
    "        print(\"static method 입니다\")"
   ]
  },
  {
   "cell_type": "code",
   "execution_count": 35,
   "id": "45562177",
   "metadata": {},
   "outputs": [],
   "source": [
    "m=MethodTypes() "
   ]
  },
  {
   "cell_type": "code",
   "execution_count": 36,
   "id": "b4cf0e5a",
   "metadata": {},
   "outputs": [
    {
     "name": "stdout",
     "output_type": "stream",
     "text": [
      "ju min\n",
      "seo\n"
     ]
    }
   ],
   "source": [
    "m.instanceMethod()"
   ]
  },
  {
   "cell_type": "code",
   "execution_count": 37,
   "id": "0ccc9186",
   "metadata": {},
   "outputs": [
    {
     "name": "stdout",
     "output_type": "stream",
     "text": [
      "jumin\n",
      "static method 입니다\n"
     ]
    }
   ],
   "source": [
    "MethodTypes.classMethod()\n",
    "MethodTypes.staticMethod()"
   ]
  },
  {
   "cell_type": "markdown",
   "id": "5cd16aca",
   "metadata": {},
   "source": [
    "## __new__ VS __init__"
   ]
  },
  {
   "cell_type": "code",
   "execution_count": 43,
   "id": "f97e75b1",
   "metadata": {},
   "outputs": [],
   "source": [
    "class NewExam:\n",
    "    def __init__(self,x=0,y=0):\n",
    "        print(\"init Method\")\n",
    "        self.x=x\n",
    "        self.y=y\n",
    "    def __new__(cls,*args):\n",
    "        print(\"new Method\")\n",
    "        print(cls)\n",
    "        print(args)\n",
    "        obj=super().__new__(cls)\n",
    "        return obj\n",
    "        #new 함수는 객체를 반환한다!\n",
    "        "
   ]
  },
  {
   "cell_type": "code",
   "execution_count": 45,
   "id": "5e9609ff",
   "metadata": {},
   "outputs": [
    {
     "name": "stdout",
     "output_type": "stream",
     "text": [
      "new Method\n",
      "<class '__main__.NewExam'>\n",
      "(3, 4)\n",
      "init Method\n"
     ]
    }
   ],
   "source": [
    "a=NewExam(3,4)\n",
    "#new가 먼저 실행, 그다음 init\n",
    "# 객체생성시 new는 메모리할당을 하고, init은 안함\n",
    "# init은 왜 안하는데? 근데 new는 있단것만 알아두셈"
   ]
  },
  {
   "cell_type": "code",
   "execution_count": 46,
   "id": "835d6afe",
   "metadata": {},
   "outputs": [
    {
     "data": {
      "text/plain": [
       "3"
      ]
     },
     "execution_count": 46,
     "metadata": {},
     "output_type": "execute_result"
    }
   ],
   "source": [
    "a.x"
   ]
  },
  {
   "cell_type": "markdown",
   "id": "eec05fac",
   "metadata": {},
   "source": [
    "# 패턴\n",
    "## 싱글톤 패턴"
   ]
  },
  {
   "cell_type": "markdown",
   "id": "fef19586",
   "metadata": {},
   "source": [
    "## 싱글톤 패턴"
   ]
  },
  {
   "cell_type": "code",
   "execution_count": 49,
   "id": "b09d5643",
   "metadata": {},
   "outputs": [],
   "source": [
    "class Singleton():\n",
    "    def __new__(cls):\n",
    "        if not hasattr(cls,'instance'):\n",
    "            print('make instance')\n",
    "            cls.instance=super().__new__(cls)\n",
    "        return cls.instance"
   ]
  },
  {
   "cell_type": "code",
   "execution_count": 50,
   "id": "5ae3d1f4",
   "metadata": {},
   "outputs": [
    {
     "name": "stdout",
     "output_type": "stream",
     "text": [
      "make instance\n",
      "object created <__main__.Singleton object at 0x0000019FC33DE0A0>\n"
     ]
    }
   ],
   "source": [
    "s1=Singleton()\n",
    "print(\"object created\",s1)"
   ]
  },
  {
   "cell_type": "code",
   "execution_count": null,
   "id": "d94234b2",
   "metadata": {},
   "outputs": [],
   "source": [
    "s2=Singleton()\n",
    "print(\"Object created\",s2)\n",
    "#생성되지 않았음!"
   ]
  },
  {
   "cell_type": "markdown",
   "id": "2ba1f57b",
   "metadata": {},
   "source": [
    "## 모노 스테이트 싱글톤"
   ]
  },
  {
   "cell_type": "code",
   "execution_count": 52,
   "id": "47ec75f5",
   "metadata": {},
   "outputs": [],
   "source": [
    "#객체의 개수가 문제가 아니고 안의 속성이 일정하냐가 문제라서, 그걸 일정하게 유지하겠다\n",
    "class Monstate:\n",
    "    __shared_state={\"a\":13}\n",
    "    def __init__(self):\n",
    "        self.__dict__=self.__shared_state\n",
    "        #__dict__ 클래스의 인스턴스 변수와 값을 딕셔너리로 가짐\n",
    "        "
   ]
  },
  {
   "cell_type": "code",
   "execution_count": 53,
   "id": "eb95f693",
   "metadata": {},
   "outputs": [],
   "source": [
    "b1=Monstate()\n",
    "b2=Monstate()"
   ]
  },
  {
   "cell_type": "code",
   "execution_count": 54,
   "id": "3eef5573",
   "metadata": {},
   "outputs": [],
   "source": [
    "b1.a=44"
   ]
  },
  {
   "cell_type": "code",
   "execution_count": 56,
   "id": "360b1c00",
   "metadata": {},
   "outputs": [
    {
     "name": "stdout",
     "output_type": "stream",
     "text": [
      "Monostate object 'b1': <__main__.Monstate object at 0x0000019FC2E5BC10>\n",
      "Monostate object 'b2': <__main__.Monstate object at 0x0000019FC2E5BE50>\n"
     ]
    }
   ],
   "source": [
    "print(\"Monostate object 'b1':\",b1)\n",
    "print(\"Monostate object 'b2':\",b2)\n",
    "# 이렇게 하면 주소가 뜨는데, 다른 객체임을 알수있음"
   ]
  },
  {
   "cell_type": "code",
   "execution_count": 57,
   "id": "2cb7e0d0",
   "metadata": {},
   "outputs": [
    {
     "name": "stdout",
     "output_type": "stream",
     "text": [
      "object state b1: {'a': 44}\n",
      "object state b2: {'a': 44}\n"
     ]
    }
   ],
   "source": [
    "print(\"object state b1:\",b1.__dict__)\n",
    "print(\"object state b2:\",b2.__dict__)\n",
    "#인스턴스는 다르지만 __dict__을 활용해 같은 상태 공유\n"
   ]
  },
  {
   "cell_type": "code",
   "execution_count": 69,
   "id": "bac589d2",
   "metadata": {},
   "outputs": [],
   "source": [
    "class DbCheck:\n",
    "    _instance = None\n",
    "    def __new__(cls):\n",
    "        if not DbCheck._instance:\n",
    "            DbCheck._instance = super().__new__(cls)\n",
    "        return DbCheck._instance\n",
    "    \n",
    "    def __init__(self):\n",
    "        self._servers =[]\n",
    "    \n",
    "    def addServer(self):\n",
    "        self._servers.append(\"Server 1\")\n",
    "        self._servers.append(\"Server 2\")\n",
    "        self._servers.append(\"Server 3\")\n",
    "        self._servers.append(\"Server 4\")\n",
    "    def changeServer(self):\n",
    "        self._servers.pop()\n",
    "        self._servers.append(\"Server 5\")"
   ]
  },
  {
   "cell_type": "code",
   "execution_count": 70,
   "id": "185185ab",
   "metadata": {},
   "outputs": [],
   "source": [
    "hc1=DbCheck()"
   ]
  },
  {
   "cell_type": "code",
   "execution_count": 71,
   "id": "68d3e84b",
   "metadata": {},
   "outputs": [],
   "source": [
    "hc2=DbCheck()"
   ]
  },
  {
   "cell_type": "code",
   "execution_count": 72,
   "id": "c091163a",
   "metadata": {},
   "outputs": [
    {
     "data": {
      "text/plain": [
       "<__main__.DbCheck at 0x19fc2e9a100>"
      ]
     },
     "execution_count": 72,
     "metadata": {},
     "output_type": "execute_result"
    }
   ],
   "source": [
    "hc1"
   ]
  },
  {
   "cell_type": "code",
   "execution_count": 73,
   "id": "e06c9cb2",
   "metadata": {},
   "outputs": [],
   "source": [
    "hc1.addServer()"
   ]
  },
  {
   "cell_type": "code",
   "execution_count": 74,
   "id": "e9409c00",
   "metadata": {},
   "outputs": [
    {
     "data": {
      "text/plain": [
       "['Server 1', 'Server 2', 'Server 3', 'Server 4']"
      ]
     },
     "execution_count": 74,
     "metadata": {},
     "output_type": "execute_result"
    }
   ],
   "source": [
    "hc1._servers"
   ]
  },
  {
   "cell_type": "code",
   "execution_count": 75,
   "id": "586709e8",
   "metadata": {},
   "outputs": [
    {
     "name": "stdout",
     "output_type": "stream",
     "text": [
      "schedule DB check for servers (1)..\n",
      "checking  Server 1\n",
      "checking  Server 2\n",
      "checking  Server 3\n",
      "checking  Server 4\n"
     ]
    }
   ],
   "source": [
    "print(\"schedule DB check for servers (1)..\")\n",
    "for i in range(4):\n",
    "    print(\"checking \",hc1._servers[i])"
   ]
  },
  {
   "cell_type": "code",
   "execution_count": 77,
   "id": "8be48fcd",
   "metadata": {},
   "outputs": [],
   "source": [
    "hc2.changeServer()"
   ]
  },
  {
   "cell_type": "code",
   "execution_count": 78,
   "id": "7c8b9ff7",
   "metadata": {},
   "outputs": [
    {
     "name": "stdout",
     "output_type": "stream",
     "text": [
      "schedult DB check for servers (2)\n",
      "Checking Server 1\n",
      "Checking Server 2\n",
      "Checking Server 3\n",
      "Checking Server 5\n"
     ]
    }
   ],
   "source": [
    "print(\"schedult DB check for servers (2)\")\n",
    "for i in range(4):\n",
    "    print(\"Checking\",hc2._servers[i])"
   ]
  },
  {
   "cell_type": "code",
   "execution_count": null,
   "id": "38d7531e",
   "metadata": {},
   "outputs": [],
   "source": []
  }
 ],
 "metadata": {
  "kernelspec": {
   "display_name": "Python 3 (ipykernel)",
   "language": "python",
   "name": "python3"
  },
  "language_info": {
   "codemirror_mode": {
    "name": "ipython",
    "version": 3
   },
   "file_extension": ".py",
   "mimetype": "text/x-python",
   "name": "python",
   "nbconvert_exporter": "python",
   "pygments_lexer": "ipython3",
   "version": "3.9.13"
  },
  "varInspector": {
   "cols": {
    "lenName": 16,
    "lenType": 16,
    "lenVar": 40
   },
   "kernels_config": {
    "python": {
     "delete_cmd_postfix": "",
     "delete_cmd_prefix": "del ",
     "library": "var_list.py",
     "varRefreshCmd": "print(var_dic_list())"
    },
    "r": {
     "delete_cmd_postfix": ") ",
     "delete_cmd_prefix": "rm(",
     "library": "var_list.r",
     "varRefreshCmd": "cat(var_dic_list()) "
    }
   },
   "types_to_exclude": [
    "module",
    "function",
    "builtin_function_or_method",
    "instance",
    "_Feature"
   ],
   "window_display": false
  }
 },
 "nbformat": 4,
 "nbformat_minor": 5
}
