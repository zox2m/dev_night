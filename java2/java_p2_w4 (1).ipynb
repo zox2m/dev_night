{
 "cells": [
  {
   "cell_type": "code",
   "execution_count": null,
   "metadata": {
    "id": "woa95z9YkV7J"
   },
   "outputs": [],
   "source": []
  },
  {
   "cell_type": "markdown",
   "metadata": {
    "id": "HhjgUl_ZkXC5"
   },
   "source": [
    "# 추상 클래스 "
   ]
  },
  {
   "cell_type": "code",
   "execution_count": null,
   "metadata": {
    "id": "CNJmrb_mkJ_Y"
   },
   "outputs": [],
   "source": [
    "from abc import *\n",
    " \n",
    "class 추상클래스이름(metaclass=ABCMeta):\n",
    "    @abstractmethod\n",
    "    def 메서드이름(self):\n",
    "        코드"
   ]
  },
  {
   "cell_type": "code",
   "execution_count": null,
   "metadata": {
    "id": "ZUNXoRbfll_d"
   },
   "outputs": [],
   "source": []
  },
  {
   "cell_type": "code",
   "execution_count": 4,
   "metadata": {
    "id": "9A3iUa7RkZzK"
   },
   "outputs": [],
   "source": [
    "from abc import *\n",
    " \n",
    "class StudentBase(metaclass=ABCMeta):\n",
    "    @abstractmethod\n",
    "    def study(self):\n",
    "        pass\n",
    " \n",
    "    @abstractmethod\n",
    "    def go_to_school(self):\n",
    "        pass"
   ]
  },
  {
   "cell_type": "code",
   "execution_count": 2,
   "metadata": {
    "id": "-J1sMCTvk8YU"
   },
   "outputs": [],
   "source": [
    "class Student(StudentBase):\n",
    "    def study(self):\n",
    "      print('공부하자')"
   ]
  },
  {
   "cell_type": "code",
   "execution_count": 3,
   "metadata": {
    "colab": {
     "base_uri": "https://localhost:8080/",
     "height": 210
    },
    "id": "orwU6dl1lB9V",
    "outputId": "298cdded-5a63-4092-9efe-9b91bdd4e4ab"
   },
   "outputs": [
    {
     "ename": "TypeError",
     "evalue": "Can't instantiate abstract class Student with abstract method go_to_school",
     "output_type": "error",
     "traceback": [
      "\u001b[1;31m---------------------------------------------------------------------------\u001b[0m",
      "\u001b[1;31mTypeError\u001b[0m                                 Traceback (most recent call last)",
      "\u001b[1;32m~\\AppData\\Local\\Temp\\ipykernel_11832\\3499052289.py\u001b[0m in \u001b[0;36m<module>\u001b[1;34m\u001b[0m\n\u001b[0;32m      1\u001b[0m \u001b[1;31m# 추상 클래스의 추상 메서드를 모두 구현 했는지 확인하는 시점은 자식 클래스의 인스턴스를 만들 때 !\u001b[0m\u001b[1;33m\u001b[0m\u001b[1;33m\u001b[0m\u001b[0m\n\u001b[1;32m----> 2\u001b[1;33m \u001b[0mjason\u001b[0m \u001b[1;33m=\u001b[0m \u001b[0mStudent\u001b[0m\u001b[1;33m(\u001b[0m\u001b[1;33m)\u001b[0m\u001b[1;33m\u001b[0m\u001b[1;33m\u001b[0m\u001b[0m\n\u001b[0m\u001b[0;32m      3\u001b[0m \u001b[0mjason\u001b[0m\u001b[1;33m.\u001b[0m\u001b[0mstudy\u001b[0m\u001b[1;33m(\u001b[0m\u001b[1;33m)\u001b[0m\u001b[1;33m\u001b[0m\u001b[1;33m\u001b[0m\u001b[0m\n",
      "\u001b[1;31mTypeError\u001b[0m: Can't instantiate abstract class Student with abstract method go_to_school"
     ]
    }
   ],
   "source": [
    "# 추상 클래스의 추상 메서드를 모두 구현 했는지 확인하는 시점은 자식 클래스의 인스턴스를 만들 때 ! \n",
    "jason = Student()\n",
    "jason.study()\n",
    "#go to shcool() 메서드를 덜 채웠기에 오류"
   ]
  },
  {
   "cell_type": "code",
   "execution_count": 5,
   "metadata": {
    "id": "_Ef1B0ZrlEh0"
   },
   "outputs": [],
   "source": [
    "from abc import *\n",
    " \n",
    "class AbstractCountry(metaclass=ABCMeta):\n",
    "    name = '국가명'\n",
    "    population = '인구'\n",
    "    capital = '수도'\n",
    "\n",
    "    def show(self):\n",
    "        print('국가 클래스의 메소드입니다.')\n"
   ]
  },
  {
   "cell_type": "code",
   "execution_count": null,
   "metadata": {
    "id": "cwA1sAc4ljr-"
   },
   "outputs": [],
   "source": [
    "a = AbstractCountry()"
   ]
  },
  {
   "cell_type": "code",
   "execution_count": null,
   "metadata": {
    "id": "1AaauN3bvR2C"
   },
   "outputs": [],
   "source": [
    "a.show()\n",
    "# 추상클래스여도 추상메소드가 없으면 ㄱㅊ "
   ]
  },
  {
   "cell_type": "markdown",
   "metadata": {
    "id": "YITody27vTMq"
   },
   "source": [
    "## 팩토리 패턴 "
   ]
  },
  {
   "cell_type": "code",
   "execution_count": 5,
   "metadata": {
    "id": "loZKSD955MkN"
   },
   "outputs": [],
   "source": [
    "from abc import *\n",
    "\n",
    "class Animal(metaclass = ABCMeta):\n",
    "  @abstractmethod\n",
    "  def do_say(self):\n",
    "    pass"
   ]
  },
  {
   "cell_type": "code",
   "execution_count": 6,
   "metadata": {
    "id": "r-TVRHtjvXGy"
   },
   "outputs": [],
   "source": [
    "class Dog(Animal):\n",
    "  def do_say(self):\n",
    "    print(\"왈 왈 \")\n",
    "\n",
    "class Cat(Animal):\n",
    "  def do_say(self):\n",
    "    print(\"야옹 야옹!!\")"
   ]
  },
  {
   "cell_type": "code",
   "execution_count": 7,
   "metadata": {
    "id": "XFAO7mVTvXst"
   },
   "outputs": [],
   "source": [
    "class ForestFactory(object):\n",
    "  def make_sound(self, object_type):\n",
    "    return eval(object_type)().do_say()  \n",
    "\n",
    "#eval은 문자식의 결과를 반환해줌 ( 이게 어케 가능함? )"
   ]
  },
  {
   "cell_type": "code",
   "execution_count": 10,
   "metadata": {
    "colab": {
     "base_uri": "https://localhost:8080/"
    },
    "id": "rn3RoiKB6gSs",
    "outputId": "d2595d8b-e1fe-46ea-e18e-b23e7afa57b6"
   },
   "outputs": [
    {
     "name": "stdout",
     "output_type": "stream",
     "text": [
      "어떤 동물의 소리를 들고싶나요 [Dog] or [Cat]?  Dog\n",
      "왈 왈 \n"
     ]
    }
   ],
   "source": [
    "## client code\n",
    "ff = ForestFactory()\n",
    "animal = input(\"어떤 동물의 소리를 들고싶나요 [Dog] or [Cat]?  \")\n",
    "ff.make_sound(animal)"
   ]
  },
  {
   "cell_type": "code",
   "execution_count": 10,
   "metadata": {
    "id": "IZ8yksUMF32z"
   },
   "outputs": [],
   "source": []
  },
  {
   "cell_type": "code",
   "execution_count": null,
   "metadata": {
    "id": "km17BUNI02vj"
   },
   "outputs": [],
   "source": []
  },
  {
   "cell_type": "code",
   "execution_count": null,
   "metadata": {
    "id": "guf68S-3hVDH"
   },
   "outputs": [],
   "source": [
    "# 팩토리 메서드 패턴 \n",
    "## product의 세부 종류인 concreteProduct 객체의 생성을 creator(Factory)의 자식 클래스인 concreteCreator(Factory)에서 담당하는 것"
   ]
  },
  {
   "cell_type": "code",
   "execution_count": null,
   "metadata": {
    "id": "BWWaDknKwz93"
   },
   "outputs": [],
   "source": [
    "from abc import *\n",
    "\n",
    "# Product\n",
    "class Mouse(metaclass=ABCMeta):\n",
    "    @abstractmethod\n",
    "    def click_left(self):\n",
    "        pass\n",
    "\n",
    "    @abstractmethod\n",
    "    def click_right(self):\n",
    "        pass"
   ]
  },
  {
   "cell_type": "code",
   "execution_count": null,
   "metadata": {
    "id": "1m48lUuqw4Xb"
   },
   "outputs": [],
   "source": [
    "# concreteProduct  \n",
    "class G102(Mouse):\n",
    "    def click_left(self):\n",
    "        print('...click left g102 manufactured by Logi')\n",
    "        \n",
    "    def click_right(self):\n",
    "        print('...click right g102 manufactured by Logi')\n",
    "\n",
    "class MagicMouse2(Mouse):\n",
    "    def click_left(self):\n",
    "        print('...click left magic mouse2 manufactured by Apple')\n",
    "        \n",
    "    def click_right(self):\n",
    "        print('...click right magic mouse2 manufactured by Apple')\n"
   ]
  },
  {
   "cell_type": "code",
   "execution_count": null,
   "metadata": {
    "id": "awd5z-mCw7Wz"
   },
   "outputs": [],
   "source": [
    "# Factory\n",
    "class MouseFactory(metaclass=ABCMeta):\n",
    "    @abstractmethod\n",
    "    def createMouse(self):\n",
    "        pass"
   ]
  },
  {
   "cell_type": "code",
   "execution_count": null,
   "metadata": {
    "id": "N8nGKN3Qw-DY"
   },
   "outputs": [],
   "source": [
    "# concreteFactory\n",
    "class LogiMouseFactory(MouseFactory):\n",
    "    def createMouse(self):\n",
    "        return G102()\n",
    "\n",
    "\n",
    "class AppleMouseFactory(MouseFactory):\n",
    "    def createMouse(self):\n",
    "        return MagicMouse2()"
   ]
  },
  {
   "cell_type": "code",
   "execution_count": null,
   "metadata": {
    "id": "CrkQuWp-xBC-"
   },
   "outputs": [],
   "source": [
    "# client\n",
    "class Client():\n",
    "    def use(self, company):\n",
    "\n",
    "        # 사용자 요구에 따라, product를 생산할 factory 생성\n",
    "        if company == 'logi':\n",
    "            factory = LogiMouseFactory()\n",
    "        elif company == 'apple':\n",
    "            factory = AppleMouseFactory()\n",
    "        else:\n",
    "            return\n",
    "\n",
    "        # product 생산 (객체 생성)\n",
    "        mymouse = factory.createMouse()\n",
    "        # 생산된 product를 사용\n",
    "        mymouse.click_left()\n",
    "\n"
   ]
  },
  {
   "cell_type": "code",
   "execution_count": null,
   "metadata": {
    "id": "YN4_1hgVxF99"
   },
   "outputs": [],
   "source": [
    "client = Client()"
   ]
  },
  {
   "cell_type": "code",
   "execution_count": null,
   "metadata": {
    "colab": {
     "base_uri": "https://localhost:8080/"
    },
    "id": "E1hA60HvxmWT",
    "outputId": "46ae8c11-4844-403f-e221-43df4802a35e"
   },
   "outputs": [
    {
     "name": "stdout",
     "output_type": "stream",
     "text": [
      "...click left g102 manufactured by Logi\n"
     ]
    }
   ],
   "source": [
    "client.use('logi')"
   ]
  },
  {
   "cell_type": "code",
   "execution_count": null,
   "metadata": {
    "colab": {
     "base_uri": "https://localhost:8080/"
    },
    "id": "apiBPKQ8xnL9",
    "outputId": "161edfbb-a8ee-42a9-913a-ffb49944b1f8"
   },
   "outputs": [
    {
     "name": "stdout",
     "output_type": "stream",
     "text": [
      "...click left magic mouse2 manufactured by Apple\n"
     ]
    }
   ],
   "source": [
    "client.use('apple')"
   ]
  },
  {
   "cell_type": "code",
   "execution_count": null,
   "metadata": {
    "id": "OFMr-IlC43P5"
   },
   "outputs": [],
   "source": [
    " ## 객체 생성 인터페이스(creator), 생성할 객체 종류(concrete product) 선정 및 실제 생성을 담당하는 자식 클래스(concrete creator)로 구성\n",
    " ## 이때 concrete creator(factory)마다 다른 조합(종류)의 concrete product를 생성하고 보유, 즉, 서로 다른 product 클래스별로 각각에 대응하는 creator가 존재\n",
    " ## 자식 팩토리클래스(concrete creator)에서는, if-else 분기 등을 이용하여 인스턴스를 생성할 상품클래스(product)의 세부 상품(concrete product)를 결정\n",
    " ## 부모 팩토리클래스의 메소드를 자식클래스에서 오버라이딩하여 구현"
   ]
  },
  {
   "cell_type": "code",
   "execution_count": null,
   "metadata": {
    "id": "5nriPYuWSMA0"
   },
   "outputs": [],
   "source": []
  },
  {
   "cell_type": "code",
   "execution_count": null,
   "metadata": {
    "id": "SpkEIA5dO9wQ"
   },
   "outputs": [],
   "source": [
    "## 추상 팩토리 패턴 \n",
    "## 팩토리 메소드 패턴이란, product의 세부 종류인 concreteProduct 객체의 생성을 creator의 자식 클래스인 concreteProduct에서 담당하는 것\n",
    "## 이때 서로 다른 product 클래스별로 각각에 대응하는 factory(creator)가 존재\n",
    "## 반면, 추상 팩토리 패턴은 product의 조합별로 factory를 만듦"
   ]
  },
  {
   "cell_type": "code",
   "execution_count": null,
   "metadata": {
    "id": "8xenktnJO8Oq"
   },
   "outputs": [],
   "source": [
    "from abc import *\n",
    "\n",
    "# (abstract)Product\n",
    "class Keyboard(metaclass=ABCMeta):\n",
    "    @abstractmethod\n",
    "    def type_words(self):\n",
    "        pass\n",
    "\n",
    "class Mouse(metaclass=ABCMeta):\n",
    "    @abstractmethod\n",
    "    def click_left(self):\n",
    "        pass\n"
   ]
  },
  {
   "cell_type": "code",
   "execution_count": 51,
   "metadata": {
    "id": "nTM0hLfrQbKK"
   },
   "outputs": [],
   "source": [
    "\n",
    "# concreteProduct\n",
    "class K380(Keyboard):\n",
    "    def type_words(self):\n",
    "        print('...type with k380 manufactured by Logi')\n",
    "\n",
    "\n",
    "class MagicKeyborad(Keyboard):\n",
    "    def type_words(self):\n",
    "        print('...type with magic keyboard manufactured by Apple')\n",
    "\n",
    "\n",
    "class G102(Mouse):\n",
    "    def click_left(self):\n",
    "        print('...click g102 manufactured by Logi')\n",
    "\n",
    "\n",
    "class MagicMouse2(Mouse):\n",
    "    def click_left(self):\n",
    "        print('...click magic mouse2 manufactured by Apple')\n"
   ]
  },
  {
   "cell_type": "code",
   "execution_count": 51,
   "metadata": {
    "id": "W4gTLbGWTgQs"
   },
   "outputs": [],
   "source": []
  },
  {
   "cell_type": "code",
   "execution_count": 52,
   "metadata": {
    "id": "DkrF-yUdQjvu"
   },
   "outputs": [],
   "source": [
    "\n",
    "# (abstract)Factory\n",
    "class ComputerFactory(metaclass=ABCMeta):\n",
    "    @abstractmethod\n",
    "    def createKeyboard(self):\n",
    "        pass\n",
    "\n",
    "    @abstractmethod\n",
    "    def createMouse(self):\n",
    "        pass"
   ]
  },
  {
   "cell_type": "code",
   "execution_count": 53,
   "metadata": {
    "id": "EOfvTacEQfM1"
   },
   "outputs": [],
   "source": [
    "\n",
    "# concreteFactory\n",
    "class LogiComputerFactory(ComputerFactory):\n",
    "    def createKeyboard(self):\n",
    "        return K380()\n",
    "\n",
    "    def createMouse(self):\n",
    "        return G102()\n",
    "\n",
    "\n",
    "class AppleComputerFactory(ComputerFactory):\n",
    "    def createKeyboard(self):\n",
    "        return MagicKeyborad()\n",
    "\n",
    "    def createMouse(self):\n",
    "        return MagicMouse2()"
   ]
  },
  {
   "cell_type": "code",
   "execution_count": 61,
   "metadata": {
    "id": "5xs15Z5lQiKa"
   },
   "outputs": [],
   "source": [
    "# client\n",
    "class Client():\n",
    "    def use(self, company):\n",
    "        \"\"\"company는 사용자 요구에 따라 변경\"\"\"\n",
    "\n",
    "        # product를 생산할 factory 생성\n",
    "        if company == 'logi':\n",
    "            factory = LogiComputerFactory()\n",
    "        elif company == 'apple':\n",
    "            factory = AppleComputerFactory()\n",
    "        else:\n",
    "            return\n",
    "\n",
    "        # product 생산 (객체 생성)\n",
    "        keyboard = factory.createKeyboard()\n",
    "        mouse = factory.createMouse()\n",
    "\n",
    "        # 생산된 product를 사용\n",
    "        keyboard.type_words()\n",
    "        mouse.click_left()"
   ]
  },
  {
   "cell_type": "code",
   "execution_count": 55,
   "metadata": {
    "id": "MF9XSte3VFbd"
   },
   "outputs": [],
   "source": [
    "client = Client()"
   ]
  },
  {
   "cell_type": "code",
   "execution_count": 56,
   "metadata": {
    "colab": {
     "base_uri": "https://localhost:8080/"
    },
    "id": "XgsQNrblVFin",
    "outputId": "e520a15e-88b8-408a-fdf3-38a6118850b4"
   },
   "outputs": [
    {
     "name": "stdout",
     "output_type": "stream",
     "text": [
      "...type with k380 manufactured by Logi\n",
      "...click g102 manufactured by Logi\n"
     ]
    }
   ],
   "source": [
    "client.use('logi')"
   ]
  },
  {
   "cell_type": "code",
   "execution_count": 59,
   "metadata": {
    "colab": {
     "base_uri": "https://localhost:8080/"
    },
    "id": "wZd3sfHJVFnV",
    "outputId": "5d27329d-cc81-46f1-9ed0-6c206132593e"
   },
   "outputs": [
    {
     "name": "stdout",
     "output_type": "stream",
     "text": [
      "...type with magic keyboard manufactured by Apple\n",
      "...click magic mouse2 manufactured by Apple\n"
     ]
    }
   ],
   "source": [
    "client.use('apple')"
   ]
  },
  {
   "cell_type": "code",
   "execution_count": null,
   "metadata": {
    "id": "Y210fDLSxoRz"
   },
   "outputs": [],
   "source": []
  },
  {
   "cell_type": "markdown",
   "metadata": {
    "id": "CgqePWtaVFq8"
   },
   "source": [
    "## 다중 상속 "
   ]
  },
  {
   "cell_type": "code",
   "execution_count": null,
   "metadata": {
    "id": "6ohw1Sg4xnoi"
   },
   "outputs": [],
   "source": []
  },
  {
   "cell_type": "code",
   "execution_count": 30,
   "metadata": {
    "colab": {
     "base_uri": "https://localhost:8080/",
     "height": 35
    },
    "id": "z5KsM3lzVnob",
    "outputId": "2902aa8b-6353-4085-b69e-06b593ae5b8b"
   },
   "outputs": [
    {
     "data": {
      "application/vnd.google.colaboratory.intrinsic+json": {
       "type": "string"
      },
      "text/plain": [
       "'\\nclass 기반클래스이름1:\\n    코드\\n \\nclass 기반클래스이름2:\\n    코드\\n \\nclass 파생클래스이름(기반클래스이름1, 기반클래스이름2):\\n    코드\\n'"
      ]
     },
     "execution_count": 30,
     "metadata": {},
     "output_type": "execute_result"
    }
   ],
   "source": [
    "\"\"\"\n",
    "class 기반클래스이름1:\n",
    "    코드\n",
    " \n",
    "class 기반클래스이름2:\n",
    "    코드\n",
    " \n",
    "class 파생클래스이름(기반클래스이름1, 기반클래스이름2):\n",
    "    코드\n",
    "\"\"\""
   ]
  },
  {
   "cell_type": "code",
   "execution_count": 31,
   "metadata": {
    "id": "2Hxmd69FVpE-"
   },
   "outputs": [],
   "source": [
    "class Person:\n",
    "    def greeting(self):\n",
    "        print('안녕하세요.')\n",
    " \n",
    "class University:\n",
    "    def manage_credit(self):\n",
    "        print('학점 관리')\n",
    " \n",
    "class Undergraduate(Person, University):\n",
    "    def study(self):\n",
    "        print('공부하기')\n",
    " "
   ]
  },
  {
   "cell_type": "code",
   "execution_count": 32,
   "metadata": {
    "id": "Rk4w0q4kWGty"
   },
   "outputs": [],
   "source": [
    "jason = Undergraduate()"
   ]
  },
  {
   "cell_type": "code",
   "execution_count": 33,
   "metadata": {
    "colab": {
     "base_uri": "https://localhost:8080/"
    },
    "id": "kT5u8oycWb9_",
    "outputId": "e6354a64-3893-49ac-ea7e-00c9ace74329"
   },
   "outputs": [
    {
     "name": "stdout",
     "output_type": "stream",
     "text": [
      "공부하기\n"
     ]
    }
   ],
   "source": [
    "jason.study()"
   ]
  },
  {
   "cell_type": "code",
   "execution_count": 34,
   "metadata": {
    "colab": {
     "base_uri": "https://localhost:8080/"
    },
    "id": "W_RrYlNQWeK1",
    "outputId": "7af017e2-f996-44fe-c453-97af6fed1f8f"
   },
   "outputs": [
    {
     "name": "stdout",
     "output_type": "stream",
     "text": [
      "학점 관리\n"
     ]
    }
   ],
   "source": [
    "jason.manage_credit()"
   ]
  },
  {
   "cell_type": "code",
   "execution_count": 35,
   "metadata": {
    "colab": {
     "base_uri": "https://localhost:8080/"
    },
    "id": "gG8qavt4WfxL",
    "outputId": "d298a654-73ac-47c7-eb19-1c51be43e4ae"
   },
   "outputs": [
    {
     "name": "stdout",
     "output_type": "stream",
     "text": [
      "안녕하세요.\n"
     ]
    }
   ],
   "source": [
    "jason.greeting()"
   ]
  },
  {
   "cell_type": "code",
   "execution_count": 40,
   "metadata": {
    "colab": {
     "base_uri": "https://localhost:8080/"
    },
    "id": "DiXyj7skWh9R",
    "outputId": "5dbc8458-5859-47df-fc3d-4cff3fcefb67"
   },
   "outputs": [
    {
     "name": "stdout",
     "output_type": "stream",
     "text": [
      "안녕하세요. C입니다.\n"
     ]
    }
   ],
   "source": [
    "class A:\n",
    "    def greeting_a(self):\n",
    "        print('안녕하세요. A입니다.')\n",
    " \n",
    "class B(A):\n",
    "    def greeting_b(self):\n",
    "        print('안녕하세요. B입니다.')\n",
    " \n",
    "class C(A):\n",
    "    def greeting_c(self):\n",
    "        print('안녕하세요. C입니다.')\n",
    " \n",
    "class D(B, C):\n",
    "    pass\n",
    " \n",
    "x = D()\n",
    "x.greeting_c()"
   ]
  },
  {
   "cell_type": "code",
   "execution_count": 48,
   "metadata": {
    "colab": {
     "base_uri": "https://localhost:8080/"
    },
    "id": "V1Yga1DJkM2f",
    "outputId": "eff2f0e0-72b2-4199-fb3f-5e854b56872c"
   },
   "outputs": [
    {
     "name": "stdout",
     "output_type": "stream",
     "text": [
      "안녕하세요. B입니다.\n"
     ]
    }
   ],
   "source": [
    "class A:\n",
    "    def greeting(self):\n",
    "        print('안녕하세요. A입니다.')\n",
    " \n",
    "class B(A):\n",
    "    def greeting(self):\n",
    "        print('안녕하세요. B입니다.')\n",
    " \n",
    "class C(A):\n",
    "    def greeting(self):\n",
    "        print('안녕하세요. C입니다.')\n",
    " \n",
    "class D(B, C):\n",
    "    pass\n",
    " \n",
    "x = D()\n",
    "x.greeting()"
   ]
  },
  {
   "cell_type": "markdown",
   "metadata": {
    "id": "qFU7jqV2oXpq"
   },
   "source": [
    "## 빌더 패턴 "
   ]
  },
  {
   "cell_type": "code",
   "execution_count": 66,
   "metadata": {
    "id": "7EJFkaj5QTfk"
   },
   "outputs": [],
   "source": [
    "class Student():\n",
    "  def __init__(self, name, age, height = 184, weight = 87):\n",
    "    self.name  = name\n",
    "    self.age  = age\n",
    "    self.height  = height\n",
    "    self.weight  = weight\n",
    "    "
   ]
  },
  {
   "cell_type": "code",
   "execution_count": 69,
   "metadata": {
    "id": "iSH7q7cHQqoh"
   },
   "outputs": [],
   "source": [
    "s1 = Student (age = 26, name = 'jason')"
   ]
  },
  {
   "cell_type": "code",
   "execution_count": 70,
   "metadata": {
    "colab": {
     "base_uri": "https://localhost:8080/"
    },
    "id": "az9n60QAQzoI",
    "outputId": "3df78fd3-acc3-4721-8c8b-3a0c52b53dc7"
   },
   "outputs": [
    {
     "data": {
      "text/plain": [
       "26"
      ]
     },
     "execution_count": 70,
     "metadata": {},
     "output_type": "execute_result"
    }
   ],
   "source": [
    "s1.age"
   ]
  },
  {
   "cell_type": "code",
   "execution_count": null,
   "metadata": {
    "id": "I-5zziN5g4Uv"
   },
   "outputs": [],
   "source": []
  },
  {
   "cell_type": "code",
   "execution_count": 71,
   "metadata": {
    "colab": {
     "base_uri": "https://localhost:8080/"
    },
    "id": "kmsE9QhoQ1vm",
    "outputId": "cf35c1ad-c62d-41ef-d93d-21c03d76a0d0"
   },
   "outputs": [
    {
     "data": {
      "text/plain": [
       "184"
      ]
     },
     "execution_count": 71,
     "metadata": {},
     "output_type": "execute_result"
    }
   ],
   "source": [
    "s1.height"
   ]
  },
  {
   "cell_type": "markdown",
   "metadata": {
    "id": "72cRfac4RAvu"
   },
   "source": [
    "## 프로토타입"
   ]
  },
  {
   "cell_type": "code",
   "execution_count": null,
   "metadata": {
    "id": "Ml3FoKZC0kJO"
   },
   "outputs": [],
   "source": [
    "import copy\n",
    "객체2 = copy.deepcopy( 객체1 )"
   ]
  },
  {
   "cell_type": "code",
   "execution_count": 136,
   "metadata": {
    "id": "cna-BYb4ooT9"
   },
   "outputs": [],
   "source": [
    "import copy\n",
    "class Point():\n",
    "  def __init__(self, x, y):\n",
    "    self.x = x \n",
    "    self.y = y\n",
    "    self.z = 0\n",
    "  def set_z (self):\n",
    "    self.z = 18"
   ]
  },
  {
   "cell_type": "code",
   "execution_count": 130,
   "metadata": {
    "id": "n5pbepEZtRDp"
   },
   "outputs": [],
   "source": [
    "p1 = Point(1,2)\n",
    "p1.set_z()"
   ]
  },
  {
   "cell_type": "code",
   "execution_count": 131,
   "metadata": {
    "id": "m_ZgvdRhtXQT"
   },
   "outputs": [],
   "source": [
    "p2 = copy.deepcopy(p1)"
   ]
  },
  {
   "cell_type": "code",
   "execution_count": 132,
   "metadata": {
    "colab": {
     "base_uri": "https://localhost:8080/"
    },
    "id": "rPq9rP7pthha",
    "outputId": "bbf25902-947e-42db-cb58-bb925e7b4baa"
   },
   "outputs": [
    {
     "name": "stdout",
     "output_type": "stream",
     "text": [
      "1\n",
      "2\n"
     ]
    }
   ],
   "source": [
    "print(p2.x)\n",
    "print(p2.y)"
   ]
  },
  {
   "cell_type": "code",
   "execution_count": 133,
   "metadata": {
    "id": "9R8DHWcxtkWv"
   },
   "outputs": [],
   "source": [
    "p2.x = 6\n",
    "p2.y = 7"
   ]
  },
  {
   "cell_type": "code",
   "execution_count": 134,
   "metadata": {
    "colab": {
     "base_uri": "https://localhost:8080/"
    },
    "id": "ztLRx1AEtph3",
    "outputId": "a0eb830a-7929-43d3-b05e-23e4890045e5"
   },
   "outputs": [
    {
     "name": "stdout",
     "output_type": "stream",
     "text": [
      "6\n",
      "7\n"
     ]
    }
   ],
   "source": [
    "print(p2.x)\n",
    "print(p2.y)"
   ]
  },
  {
   "cell_type": "code",
   "execution_count": 135,
   "metadata": {
    "colab": {
     "base_uri": "https://localhost:8080/"
    },
    "id": "WuOkrkNftt-M",
    "outputId": "8e672452-d362-4613-f029-4e6e388a2848"
   },
   "outputs": [
    {
     "data": {
      "text/plain": [
       "18"
      ]
     },
     "execution_count": 135,
     "metadata": {},
     "output_type": "execute_result"
    }
   ],
   "source": [
    "p2.z"
   ]
  },
  {
   "cell_type": "code",
   "execution_count": 112,
   "metadata": {
    "id": "G9ga7-HOusIC"
   },
   "outputs": [],
   "source": []
  },
  {
   "cell_type": "code",
   "execution_count": null,
   "metadata": {
    "id": "DOnULOnWxLy9"
   },
   "outputs": [],
   "source": [
    "## 얕은 복사, 깊은 복사 "
   ]
  },
  {
   "cell_type": "code",
   "execution_count": 119,
   "metadata": {
    "colab": {
     "base_uri": "https://localhost:8080/"
    },
    "id": "SJBuPP1TxYX0",
    "outputId": "370cb7c3-40ee-4e63-e84b-b552a147b6c6"
   },
   "outputs": [
    {
     "name": "stdout",
     "output_type": "stream",
     "text": [
      "['이하이', '박재범', '뉴진스']\n"
     ]
    }
   ],
   "source": [
    "## 일반 복사 ( = ), 같은 객체를 가리킴 \n",
    "\n",
    "list_A = [\"이하이\",\"박재범\"]\n",
    "\n",
    "list_B = list_A\n",
    "\n",
    "list_B.append(\"뉴진스\")\n",
    "\n",
    "print(list_A)\n"
   ]
  },
  {
   "cell_type": "code",
   "execution_count": 120,
   "metadata": {
    "colab": {
     "base_uri": "https://localhost:8080/"
    },
    "id": "-t_hUt0IxKKP",
    "outputId": "0dd412af-8039-4885-b373-cb07120a4fb1"
   },
   "outputs": [
    {
     "name": "stdout",
     "output_type": "stream",
     "text": [
      "['이하이', '박재범', '뉴진스']\n",
      "['이하이', '박재범']\n"
     ]
    }
   ],
   "source": [
    "## 얕은 복사 , 파이썬 내장함수 copy() 사용 \n",
    "## 복사한 객체(B)를 수정해도 복사된 객체(A)는 수정되지 않음.\n",
    "\n",
    "list_A = [\"이하이\",\"박재범\"]\n",
    "\n",
    "list_B = list_A.copy()  \n",
    "\n",
    "list_B.append(\"뉴진스\")\n",
    "\n",
    "print(list_B)\n",
    "\n",
    "print(list_A)\n"
   ]
  },
  {
   "cell_type": "code",
   "execution_count": 125,
   "metadata": {
    "colab": {
     "base_uri": "https://localhost:8080/"
    },
    "id": "_Eu-2EfWxlD7",
    "outputId": "067cf5ee-3454-43a9-f74e-dfb1596a4e19"
   },
   "outputs": [
    {
     "name": "stdout",
     "output_type": "stream",
     "text": [
      "박재범\n",
      "['이하이', ['아이브', '뉴진스']]\n",
      "['로꼬', ['아이브', '뉴진스']]\n"
     ]
    }
   ],
   "source": [
    "## 얕은 복사 문제점 \n",
    "## 객체 안에 객체는 변경됨 \n",
    "\n",
    "list_A = [\"이하이\",[\"박재범\",\"뉴진스\"]]\n",
    "\n",
    "list_B = list_A.copy()  # 1번 방법\n",
    "print(list_B[1][0])\n",
    "list_B[0] =\"로꼬\"\n",
    "list_B[1][0] =\"아이브\"\n",
    "\n",
    "\n",
    "print(list_A)\n",
    "print(list_B)"
   ]
  },
  {
   "cell_type": "code",
   "execution_count": 127,
   "metadata": {
    "colab": {
     "base_uri": "https://localhost:8080/"
    },
    "id": "1_lDKODOzLgN",
    "outputId": "41c0882f-0554-41fe-921f-d1a793a4b6c6"
   },
   "outputs": [
    {
     "name": "stdout",
     "output_type": "stream",
     "text": [
      "['이하이', ['박재범', '뉴진스']] ['이하이', [['GHI'], '뉴진스']]\n"
     ]
    }
   ],
   "source": [
    "## 깊은 복사 \n",
    "## 복사로 만들어진 두 객체는 같은 값을 가진 완전히 다른 객체가 됨 \n",
    "## 어느 한 쪽을 수정하다라도 다른 쪽에 영향 없음 !\n",
    "import copy\n",
    "\n",
    "list_A = [\"이하이\",[\"박재범\",\"뉴진스\"]]\n",
    "\n",
    "list_B = copy.deepcopy(list_A)\n",
    "\n",
    "list_B[1][0] = [\"GHI\"]\n",
    "\n",
    "print(list_A, list_B)\n"
   ]
  }
 ],
 "metadata": {
  "colab": {
   "collapsed_sections": [],
   "provenance": []
  },
  "kernelspec": {
   "display_name": "Python 3 (ipykernel)",
   "language": "python",
   "name": "python3"
  },
  "language_info": {
   "codemirror_mode": {
    "name": "ipython",
    "version": 3
   },
   "file_extension": ".py",
   "mimetype": "text/x-python",
   "name": "python",
   "nbconvert_exporter": "python",
   "pygments_lexer": "ipython3",
   "version": "3.9.13"
  },
  "varInspector": {
   "cols": {
    "lenName": 16,
    "lenType": 16,
    "lenVar": 40
   },
   "kernels_config": {
    "python": {
     "delete_cmd_postfix": "",
     "delete_cmd_prefix": "del ",
     "library": "var_list.py",
     "varRefreshCmd": "print(var_dic_list())"
    },
    "r": {
     "delete_cmd_postfix": ") ",
     "delete_cmd_prefix": "rm(",
     "library": "var_list.r",
     "varRefreshCmd": "cat(var_dic_list()) "
    }
   },
   "types_to_exclude": [
    "module",
    "function",
    "builtin_function_or_method",
    "instance",
    "_Feature"
   ],
   "window_display": false
  }
 },
 "nbformat": 4,
 "nbformat_minor": 1
}
